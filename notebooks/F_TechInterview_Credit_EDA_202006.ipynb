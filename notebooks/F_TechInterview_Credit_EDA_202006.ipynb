{
 "cells": [
  {
   "cell_type": "markdown",
   "metadata": {},
   "source": [
    "#  F Data Science - Tech Interview: Credit EDA\n",
    "\n",
    "### June 2020\n",
    "\n",
    "<hr style=\"height:2pt\">"
   ]
  },
  {
   "cell_type": "markdown",
   "metadata": {},
   "source": [
    "## Description\n",
    "\n",
    "The following dataset has 150.000 records of borrowers taken from an anonymous bank, which are described through 12 different columns.\n",
    "\n",
    "The goal of this test is to perform an Exploratory Data Analysis (EDA) on this dataset, to understand the information contained and obtain insights that could be relevant to solve a business problem.\n",
    "\n",
    "You can find the data in this [link](https://s3-us-west-2.amazonaws.com/fligoo.data-science/TechInterviews/CreditEDA/data/credit-data.csv)\n",
    "\n",
    "Below is a description of the involved columns:\n",
    "\n",
    "| Variable Name | Description | \n",
    "| ------------- | ----------- |\n",
    "| unnamed:0 | ID of borrower |\n",
    "| serious_dlqin2yrs | Person experienced 90 days past due delinquency or worse |\n",
    "| revolving_utilization_of_unsecured_lines | Total balance on credit cards and personal lines of credit except real estate and no installment debt like car loans divided by the sum of credit limits |\n",
    "| age | Age of borrower in years | \n",
    "| number_of_time30-59_days_past_due_not_worse | Number of times borrower has been 30-59 days past due but no worse in the last 2 years |\n",
    "| debt_ratio | Monthly debt payments, alimony, living costs divided by monthy gross income |\n",
    "| monthly_income | Monthly income |\n",
    "| number_of_open_credit_lines_and_loans | Number of open loans (installment like car loan or mortgage) and lines of credit (e.g. credit cards) |\n",
    "| number_of_times90_days_late | Number of times borrower has been 90 days or more past due |\n",
    "| number_real_estate_loans_or_lines | Number of mortgage and real estate loans including home equity lines of credit |\n",
    "| number_of_time60-89_days_past_due_not_worse | Number of times borrower has been 60-89 days past due but no worse in the last 2 years |\n",
    "| number_of_dependents | Number of dependents in family excluding themselves (spouse, children etc.) |\n",
    "\n",
    "\n",
    "Please **read carefully** all the assignments to guide the work that is expected to find in this notebook."
   ]
  },
  {
   "cell_type": "markdown",
   "metadata": {},
   "source": [
    "## Assignments\n",
    "\n",
    "In this notebook you have to load all the libraries you need to explore and process the given dataset, and then perform the analysis to extract meaningful facts in order to understand the information involved. You are free to make any kind of analytic you want, but at the end it is expected to have done the \"mandatory\" tasks on this work. In addition, there are some \"desirable\" aspects that would enrich the work done, and some \"bonus\" tasks as well to obtain an oustanding valoration in this interview.\n",
    "\n",
    "**NOTE: provide reports in English.**\n",
    "\n",
    "### Mandatory\n",
    "\n",
    "- **Stack of technologies:** The analysis on this notebook should be done by using at least the following stack:   \n",
    "    - Python 3.x (not 2.x)\n",
    "    - Pandas 1.0.x\n",
    "    - Numpy 1.18.x\n",
    "    - Matplotlib 3.2.x\n",
    "- **Data QA:** You must check the quality of the given dataset to make an assessment of how appropriate it is for later Data Science tasks. Propose a set of corrective actions over the data.     \n",
    "- **Report insights and conclusions:** Describe the results obtained during the exploratory analysis and provide conclusions from a business perspective, supported by charts / tables / metrics.    \n",
    "- **Feature extraction:** Indicate some possible candidates of features that could properly describe the borrowers, either from the given columns or from their transformations.\n",
    "- **Machine Learning approaches:** Describe the possible Machine Learning tasks that could be performed from the given data, which may be valuable in the context of the finance domain (just explain with words, **don't fit a model**).\n",
    "\n",
    "### Desirable aspects\n",
    "\n",
    "- **Code versioning with Git** (you are free to publish it on your own Github/Bitbucket account!).\n",
    "- **Use all possible programming paradigms in Python** (e.g. imperative, OOP, functional, etc).\n",
    "- **Docstring** on classes and functions developed.\n",
    "- **Describe the data treatment** that could be done to perform the tasks of modeling and make predictions from data in this format (just with words, giving details of each step involved).\n",
    "- **Use cases:** Describe possible use cases for this dataset that could add value to the given business, indicating methods / techniques and algorithms for each of them and justifying the choice made.\n",
    "\n",
    "### Bonus\n",
    "\n",
    "- Machine Learning approaches: at least one fitted model with the given data.\n",
    "- Propose new attributes that could improve the business understanding as well as the possible approaches to follow.\n",
    "\n",
    "Once you complete the assessment, please send a ZIP file of the folder with all the resources used in this work (e.g. Jupyter notebook, Python scripts, text files, images, etc) to leandro.ferrado@fligoo.com. Then you are going to have a final meeting with the team to discuss the work done in this notebook and answer the questions that could arise.\n",
    "\n",
    "**Have fun!**\n",
    "\n",
    "![Have fun](https://media1.tenor.com/images/8d13f337a8c6e5aab8ba1bd8acd4da0c/tenor.gif?itemid=5304821)"
   ]
  },
  {
   "cell_type": "markdown",
   "metadata": {},
   "source": [
    "# SOLUTION PROPOSED"
   ]
  },
  {
   "cell_type": "markdown",
   "metadata": {},
   "source": [
    "## Set-up"
   ]
  },
  {
   "cell_type": "code",
   "execution_count": null,
   "metadata": {},
   "outputs": [],
   "source": [
    "#!pip install git+https://github.com/tensorflow/docs  # already in req's file..."
   ]
  },
  {
   "cell_type": "code",
   "execution_count": null,
   "metadata": {},
   "outputs": [],
   "source": [
    "# If not running on  docker\n",
    "#!pip install -r requirements.txt"
   ]
  },
  {
   "cell_type": "code",
   "execution_count": 1,
   "metadata": {
    "collapsed": true,
    "jupyter": {
     "outputs_hidden": true
    }
   },
   "outputs": [
    {
     "name": "stdout",
     "output_type": "stream",
     "text": [
      "Package                Version                                       \n",
      "---------------------- ----------------------------------------------\n",
      "absl-py                0.9.0                                         \n",
      "astor                  0.8.1                                         \n",
      "astunparse             1.6.3                                         \n",
      "attrs                  19.3.0                                        \n",
      "backcall               0.2.0                                         \n",
      "bleach                 3.1.5                                         \n",
      "cachetools             4.1.0                                         \n",
      "certifi                2020.4.5.1                                    \n",
      "chardet                3.0.4                                         \n",
      "colorama               0.4.3                                         \n",
      "cycler                 0.10.0                                        \n",
      "decorator              4.4.2                                         \n",
      "defusedxml             0.6.0                                         \n",
      "entrypoints            0.3                                           \n",
      "gast                   0.3.3                                         \n",
      "google-auth            1.17.2                                        \n",
      "google-auth-oauthlib   0.4.1                                         \n",
      "google-pasta           0.2.0                                         \n",
      "grpcio                 1.29.0                                        \n",
      "h5py                   2.10.0                                        \n",
      "idna                   2.9                                           \n",
      "importlib-metadata     1.6.1                                         \n",
      "ipykernel              5.3.0                                         \n",
      "ipython                7.15.0                                        \n",
      "ipython-genutils       0.2.0                                         \n",
      "jedi                   0.17.0                                        \n",
      "Jinja2                 2.11.2                                        \n",
      "joblib                 0.15.1                                        \n",
      "json5                  0.9.5                                         \n",
      "jsonschema             3.2.0                                         \n",
      "jupyter-client         6.1.3                                         \n",
      "jupyter-core           4.6.3                                         \n",
      "jupyterlab             2.1.4                                         \n",
      "jupyterlab-server      1.1.5                                         \n",
      "Keras-Preprocessing    1.1.2                                         \n",
      "kiwisolver             1.2.0                                         \n",
      "Markdown               3.2.2                                         \n",
      "MarkupSafe             1.1.1                                         \n",
      "matplotlib             3.2.1                                         \n",
      "mistune                0.8.4                                         \n",
      "nbconvert              5.6.1                                         \n",
      "nbformat               5.0.7                                         \n",
      "notebook               6.0.3                                         \n",
      "numpy                  1.18.5                                        \n",
      "oauthlib               3.1.0                                         \n",
      "opt-einsum             3.2.1                                         \n",
      "packaging              20.4                                          \n",
      "pandas                 1.0.4                                         \n",
      "pandocfilters          1.4.2                                         \n",
      "parso                  0.7.0                                         \n",
      "pickleshare            0.7.5                                         \n",
      "pip                    20.0.2                                        \n",
      "prometheus-client      0.8.0                                         \n",
      "prompt-toolkit         3.0.5                                         \n",
      "protobuf               3.12.2                                        \n",
      "pyasn1                 0.4.8                                         \n",
      "pyasn1-modules         0.2.8                                         \n",
      "Pygments               2.6.1                                         \n",
      "pyparsing              2.4.7                                         \n",
      "pyrsistent             0.16.0                                        \n",
      "python-dateutil        2.8.1                                         \n",
      "pytz                   2020.1                                        \n",
      "pywin32                227                                           \n",
      "pywinpty               0.5.7                                         \n",
      "PyYAML                 5.3.1                                         \n",
      "pyzmq                  19.0.1                                        \n",
      "requests               2.23.0                                        \n",
      "requests-oauthlib      1.3.0                                         \n",
      "rsa                    4.6                                           \n",
      "scikit-learn           0.23.1                                        \n",
      "scipy                  1.4.1                                         \n",
      "seaborn                0.10.1                                        \n",
      "Send2Trash             1.5.0                                         \n",
      "setuptools             47.1.1.post20200604                           \n",
      "six                    1.15.0                                        \n",
      "sklearn                0.0                                           \n",
      "tensorboard            2.2.2                                         \n",
      "tensorboard-plugin-wit 1.6.0.post3                                   \n",
      "tensorflow             2.2.0                                         \n",
      "tensorflow-docs        0.0.08f33bfd07a3990ed05925c186c765baf687d1bd0-\n",
      "tensorflow-estimator   2.2.0                                         \n",
      "termcolor              1.1.0                                         \n",
      "terminado              0.8.3                                         \n",
      "testpath               0.4.4                                         \n",
      "threadpoolctl          2.1.0                                         \n",
      "tornado                6.0.4                                         \n",
      "traitlets              4.3.3                                         \n",
      "urllib3                1.25.9                                        \n",
      "wcwidth                0.2.4                                         \n",
      "webencodings           0.5.1                                         \n",
      "Werkzeug               1.0.1                                         \n",
      "wheel                  0.34.2                                        \n",
      "wincertstore           0.2                                           \n",
      "wrapt                  1.12.1                                        \n",
      "zipp                   3.1.0                                         \n"
     ]
    }
   ],
   "source": [
    "# Packages list\n",
    "# !pip  list"
   ]
  },
  {
   "cell_type": "code",
   "execution_count": 2,
   "metadata": {},
   "outputs": [
    {
     "name": "stdout",
     "output_type": "stream",
     "text": [
      "fligoo\n"
     ]
    }
   ],
   "source": [
    "# Get current conda environment\n",
    "#import os\n",
    "#print(os.environ['CONDA_DEFAULT_ENV'])"
   ]
  },
  {
   "cell_type": "code",
   "execution_count": 1,
   "metadata": {},
   "outputs": [],
   "source": [
    "#Imports\n",
    "import pandas as pd\n",
    "import numpy as np\n",
    "import seaborn as sns\n",
    "import matplotlib.pyplot as plt\n",
    "\n",
    "from scipy.stats import norm\n",
    "\n",
    "from sklearn.model_selection import GridSearchCV, train_test_split\n",
    "from sklearn.linear_model import SGDRegressor, LinearRegression, Ridge\n",
    "from sklearn import metrics\n",
    "from sklearn.preprocessing import StandardScaler\n",
    "\n",
    "\n",
    "import tensorflow as tf\n",
    "from tensorflow import keras\n",
    "from tensorflow.keras import layers\n",
    "\n",
    "import tensorflow_docs as tfdocs\n",
    "import tensorflow_docs.modeling\n",
    "import tensorflow_docs.plots\n",
    "\n",
    "import warnings\n",
    "warnings.filterwarnings('ignore')\n",
    "plotter = tfdocs.plots.HistoryPlotter(smoothing_std=2)\n",
    "%matplotlib inline"
   ]
  },
  {
   "cell_type": "markdown",
   "metadata": {},
   "source": [
    "## Data Exploration & QA"
   ]
  },
  {
   "cell_type": "markdown",
   "metadata": {},
   "source": [
    " #### Load file"
   ]
  },
  {
   "cell_type": "code",
   "execution_count": 6,
   "metadata": {},
   "outputs": [],
   "source": [
    "#bor_raw = pd.read_csv(\"https://s3-us-west-2.amazonaws.com/fligoo.data-science/TechInterviews/CreditEDA/data/credit-data.csv\") # dwonlaod from source if not local\n",
    "bor_raw = pd.read_csv(\"./../data/credit-data.csv\")"
   ]
  },
  {
   "cell_type": "code",
   "execution_count": 3,
   "metadata": {},
   "outputs": [
    {
     "data": {
      "text/plain": [
       "(150000, 12)"
      ]
     },
     "execution_count": 3,
     "metadata": {},
     "output_type": "execute_result"
    }
   ],
   "source": [
    "bor_raw.shape"
   ]
  },
  {
   "cell_type": "code",
   "execution_count": 6,
   "metadata": {},
   "outputs": [
    {
     "data": {
      "text/html": [
       "<div>\n",
       "<style scoped>\n",
       "    .dataframe tbody tr th:only-of-type {\n",
       "        vertical-align: middle;\n",
       "    }\n",
       "\n",
       "    .dataframe tbody tr th {\n",
       "        vertical-align: top;\n",
       "    }\n",
       "\n",
       "    .dataframe thead th {\n",
       "        text-align: right;\n",
       "    }\n",
       "</style>\n",
       "<table border=\"1\" class=\"dataframe\">\n",
       "  <thead>\n",
       "    <tr style=\"text-align: right;\">\n",
       "      <th></th>\n",
       "      <th>unnamed: 0</th>\n",
       "      <th>serious_dlqin2yrs</th>\n",
       "      <th>revolving_utilization_of_unsecured_lines</th>\n",
       "      <th>age</th>\n",
       "      <th>number_of_time30-59_days_past_due_not_worse</th>\n",
       "      <th>debt_ratio</th>\n",
       "      <th>monthly_income</th>\n",
       "      <th>number_of_open_credit_lines_and_loans</th>\n",
       "      <th>number_of_times90_days_late</th>\n",
       "      <th>number_real_estate_loans_or_lines</th>\n",
       "      <th>number_of_time60-89_days_past_due_not_worse</th>\n",
       "      <th>number_of_dependents</th>\n",
       "    </tr>\n",
       "  </thead>\n",
       "  <tbody>\n",
       "    <tr>\n",
       "      <th>0</th>\n",
       "      <td>1</td>\n",
       "      <td>1</td>\n",
       "      <td>0.766127</td>\n",
       "      <td>45</td>\n",
       "      <td>2</td>\n",
       "      <td>0.802982</td>\n",
       "      <td>9120.0</td>\n",
       "      <td>13</td>\n",
       "      <td>0</td>\n",
       "      <td>6</td>\n",
       "      <td>0</td>\n",
       "      <td>2.0</td>\n",
       "    </tr>\n",
       "    <tr>\n",
       "      <th>1</th>\n",
       "      <td>2</td>\n",
       "      <td>0</td>\n",
       "      <td>0.957151</td>\n",
       "      <td>40</td>\n",
       "      <td>0</td>\n",
       "      <td>0.121876</td>\n",
       "      <td>2600.0</td>\n",
       "      <td>4</td>\n",
       "      <td>0</td>\n",
       "      <td>0</td>\n",
       "      <td>0</td>\n",
       "      <td>1.0</td>\n",
       "    </tr>\n",
       "    <tr>\n",
       "      <th>2</th>\n",
       "      <td>3</td>\n",
       "      <td>0</td>\n",
       "      <td>0.658180</td>\n",
       "      <td>38</td>\n",
       "      <td>1</td>\n",
       "      <td>0.085113</td>\n",
       "      <td>3042.0</td>\n",
       "      <td>2</td>\n",
       "      <td>1</td>\n",
       "      <td>0</td>\n",
       "      <td>0</td>\n",
       "      <td>0.0</td>\n",
       "    </tr>\n",
       "    <tr>\n",
       "      <th>3</th>\n",
       "      <td>4</td>\n",
       "      <td>0</td>\n",
       "      <td>0.233810</td>\n",
       "      <td>30</td>\n",
       "      <td>0</td>\n",
       "      <td>0.036050</td>\n",
       "      <td>3300.0</td>\n",
       "      <td>5</td>\n",
       "      <td>0</td>\n",
       "      <td>0</td>\n",
       "      <td>0</td>\n",
       "      <td>0.0</td>\n",
       "    </tr>\n",
       "    <tr>\n",
       "      <th>4</th>\n",
       "      <td>5</td>\n",
       "      <td>0</td>\n",
       "      <td>0.907239</td>\n",
       "      <td>49</td>\n",
       "      <td>1</td>\n",
       "      <td>0.024926</td>\n",
       "      <td>63588.0</td>\n",
       "      <td>7</td>\n",
       "      <td>0</td>\n",
       "      <td>1</td>\n",
       "      <td>0</td>\n",
       "      <td>0.0</td>\n",
       "    </tr>\n",
       "  </tbody>\n",
       "</table>\n",
       "</div>"
      ],
      "text/plain": [
       "   unnamed: 0  serious_dlqin2yrs  revolving_utilization_of_unsecured_lines  \\\n",
       "0           1                  1                                  0.766127   \n",
       "1           2                  0                                  0.957151   \n",
       "2           3                  0                                  0.658180   \n",
       "3           4                  0                                  0.233810   \n",
       "4           5                  0                                  0.907239   \n",
       "\n",
       "   age  number_of_time30-59_days_past_due_not_worse  debt_ratio  \\\n",
       "0   45                                            2    0.802982   \n",
       "1   40                                            0    0.121876   \n",
       "2   38                                            1    0.085113   \n",
       "3   30                                            0    0.036050   \n",
       "4   49                                            1    0.024926   \n",
       "\n",
       "   monthly_income  number_of_open_credit_lines_and_loans  \\\n",
       "0          9120.0                                     13   \n",
       "1          2600.0                                      4   \n",
       "2          3042.0                                      2   \n",
       "3          3300.0                                      5   \n",
       "4         63588.0                                      7   \n",
       "\n",
       "   number_of_times90_days_late  number_real_estate_loans_or_lines  \\\n",
       "0                            0                                  6   \n",
       "1                            0                                  0   \n",
       "2                            1                                  0   \n",
       "3                            0                                  0   \n",
       "4                            0                                  1   \n",
       "\n",
       "   number_of_time60-89_days_past_due_not_worse  number_of_dependents  \n",
       "0                                            0                   2.0  \n",
       "1                                            0                   1.0  \n",
       "2                                            0                   0.0  \n",
       "3                                            0                   0.0  \n",
       "4                                            0                   0.0  "
      ]
     },
     "execution_count": 6,
     "metadata": {},
     "output_type": "execute_result"
    }
   ],
   "source": [
    "bor_raw.head()"
   ]
  },
  {
   "cell_type": "code",
   "execution_count": 7,
   "metadata": {},
   "outputs": [
    {
     "data": {
      "text/html": [
       "<div>\n",
       "<style scoped>\n",
       "    .dataframe tbody tr th:only-of-type {\n",
       "        vertical-align: middle;\n",
       "    }\n",
       "\n",
       "    .dataframe tbody tr th {\n",
       "        vertical-align: top;\n",
       "    }\n",
       "\n",
       "    .dataframe thead th {\n",
       "        text-align: right;\n",
       "    }\n",
       "</style>\n",
       "<table border=\"1\" class=\"dataframe\">\n",
       "  <thead>\n",
       "    <tr style=\"text-align: right;\">\n",
       "      <th></th>\n",
       "      <th>unnamed: 0</th>\n",
       "      <th>serious_dlqin2yrs</th>\n",
       "      <th>revolving_utilization_of_unsecured_lines</th>\n",
       "      <th>age</th>\n",
       "      <th>number_of_time30-59_days_past_due_not_worse</th>\n",
       "      <th>debt_ratio</th>\n",
       "      <th>monthly_income</th>\n",
       "      <th>number_of_open_credit_lines_and_loans</th>\n",
       "      <th>number_of_times90_days_late</th>\n",
       "      <th>number_real_estate_loans_or_lines</th>\n",
       "      <th>number_of_time60-89_days_past_due_not_worse</th>\n",
       "      <th>number_of_dependents</th>\n",
       "    </tr>\n",
       "  </thead>\n",
       "  <tbody>\n",
       "    <tr>\n",
       "      <th>149995</th>\n",
       "      <td>149996</td>\n",
       "      <td>0</td>\n",
       "      <td>0.040674</td>\n",
       "      <td>74</td>\n",
       "      <td>0</td>\n",
       "      <td>0.225131</td>\n",
       "      <td>2100.0</td>\n",
       "      <td>4</td>\n",
       "      <td>0</td>\n",
       "      <td>1</td>\n",
       "      <td>0</td>\n",
       "      <td>0.0</td>\n",
       "    </tr>\n",
       "    <tr>\n",
       "      <th>149996</th>\n",
       "      <td>149997</td>\n",
       "      <td>0</td>\n",
       "      <td>0.299745</td>\n",
       "      <td>44</td>\n",
       "      <td>0</td>\n",
       "      <td>0.716562</td>\n",
       "      <td>5584.0</td>\n",
       "      <td>4</td>\n",
       "      <td>0</td>\n",
       "      <td>1</td>\n",
       "      <td>0</td>\n",
       "      <td>2.0</td>\n",
       "    </tr>\n",
       "    <tr>\n",
       "      <th>149997</th>\n",
       "      <td>149998</td>\n",
       "      <td>0</td>\n",
       "      <td>0.246044</td>\n",
       "      <td>58</td>\n",
       "      <td>0</td>\n",
       "      <td>3870.000000</td>\n",
       "      <td>NaN</td>\n",
       "      <td>18</td>\n",
       "      <td>0</td>\n",
       "      <td>1</td>\n",
       "      <td>0</td>\n",
       "      <td>0.0</td>\n",
       "    </tr>\n",
       "    <tr>\n",
       "      <th>149998</th>\n",
       "      <td>149999</td>\n",
       "      <td>0</td>\n",
       "      <td>0.000000</td>\n",
       "      <td>30</td>\n",
       "      <td>0</td>\n",
       "      <td>0.000000</td>\n",
       "      <td>5716.0</td>\n",
       "      <td>4</td>\n",
       "      <td>0</td>\n",
       "      <td>0</td>\n",
       "      <td>0</td>\n",
       "      <td>0.0</td>\n",
       "    </tr>\n",
       "    <tr>\n",
       "      <th>149999</th>\n",
       "      <td>150000</td>\n",
       "      <td>0</td>\n",
       "      <td>0.850283</td>\n",
       "      <td>64</td>\n",
       "      <td>0</td>\n",
       "      <td>0.249908</td>\n",
       "      <td>8158.0</td>\n",
       "      <td>8</td>\n",
       "      <td>0</td>\n",
       "      <td>2</td>\n",
       "      <td>0</td>\n",
       "      <td>0.0</td>\n",
       "    </tr>\n",
       "  </tbody>\n",
       "</table>\n",
       "</div>"
      ],
      "text/plain": [
       "        unnamed: 0  serious_dlqin2yrs  \\\n",
       "149995      149996                  0   \n",
       "149996      149997                  0   \n",
       "149997      149998                  0   \n",
       "149998      149999                  0   \n",
       "149999      150000                  0   \n",
       "\n",
       "        revolving_utilization_of_unsecured_lines  age  \\\n",
       "149995                                  0.040674   74   \n",
       "149996                                  0.299745   44   \n",
       "149997                                  0.246044   58   \n",
       "149998                                  0.000000   30   \n",
       "149999                                  0.850283   64   \n",
       "\n",
       "        number_of_time30-59_days_past_due_not_worse   debt_ratio  \\\n",
       "149995                                            0     0.225131   \n",
       "149996                                            0     0.716562   \n",
       "149997                                            0  3870.000000   \n",
       "149998                                            0     0.000000   \n",
       "149999                                            0     0.249908   \n",
       "\n",
       "        monthly_income  number_of_open_credit_lines_and_loans  \\\n",
       "149995          2100.0                                      4   \n",
       "149996          5584.0                                      4   \n",
       "149997             NaN                                     18   \n",
       "149998          5716.0                                      4   \n",
       "149999          8158.0                                      8   \n",
       "\n",
       "        number_of_times90_days_late  number_real_estate_loans_or_lines  \\\n",
       "149995                            0                                  1   \n",
       "149996                            0                                  1   \n",
       "149997                            0                                  1   \n",
       "149998                            0                                  0   \n",
       "149999                            0                                  2   \n",
       "\n",
       "        number_of_time60-89_days_past_due_not_worse  number_of_dependents  \n",
       "149995                                            0                   0.0  \n",
       "149996                                            0                   2.0  \n",
       "149997                                            0                   0.0  \n",
       "149998                                            0                   0.0  \n",
       "149999                                            0                   0.0  "
      ]
     },
     "execution_count": 7,
     "metadata": {},
     "output_type": "execute_result"
    }
   ],
   "source": [
    "bor_raw.tail()"
   ]
  },
  {
   "cell_type": "markdown",
   "metadata": {},
   "source": [
    "First remove row number column and check if there exists duplicated rows"
   ]
  },
  {
   "cell_type": "code",
   "execution_count": 8,
   "metadata": {},
   "outputs": [
    {
     "data": {
      "text/plain": [
       "767"
      ]
     },
     "execution_count": 8,
     "metadata": {},
     "output_type": "execute_result"
    }
   ],
   "source": [
    "bor_no_row_number = bor_raw.drop('unnamed: 0', axis=1)\n",
    "\n",
    "bor_no_row_number.duplicated().sum()"
   ]
  },
  {
   "cell_type": "markdown",
   "metadata": {},
   "source": [
    "Remove duplicated rows"
   ]
  },
  {
   "cell_type": "code",
   "execution_count": 9,
   "metadata": {},
   "outputs": [],
   "source": [
    "bor_no_dup = bor_no_row_number.drop_duplicates()"
   ]
  },
  {
   "cell_type": "markdown",
   "metadata": {},
   "source": [
    "Lets check data types for the dataframe"
   ]
  },
  {
   "cell_type": "code",
   "execution_count": 10,
   "metadata": {},
   "outputs": [
    {
     "data": {
      "text/plain": [
       "serious_dlqin2yrs                                int64\n",
       "revolving_utilization_of_unsecured_lines       float64\n",
       "age                                              int64\n",
       "number_of_time30-59_days_past_due_not_worse      int64\n",
       "debt_ratio                                     float64\n",
       "monthly_income                                 float64\n",
       "number_of_open_credit_lines_and_loans            int64\n",
       "number_of_times90_days_late                      int64\n",
       "number_real_estate_loans_or_lines                int64\n",
       "number_of_time60-89_days_past_due_not_worse      int64\n",
       "number_of_dependents                           float64\n",
       "dtype: object"
      ]
     },
     "execution_count": 10,
     "metadata": {},
     "output_type": "execute_result"
    }
   ],
   "source": [
    "bor_no_dup.dtypes"
   ]
  },
  {
   "cell_type": "markdown",
   "metadata": {},
   "source": [
    "Now we'll plot the distribution for each variable using boxplots"
   ]
  },
  {
   "cell_type": "code",
   "execution_count": 11,
   "metadata": {},
   "outputs": [
    {
     "data": {
      "image/png": "[encoded data removed]",
      "text/plain": [
       "<Figure size 1440x1440 with 12 Axes>"
      ]
     },
     "metadata": {
      "needs_background": "light"
     },
     "output_type": "display_data"
    }
   ],
   "source": [
    "f, axes = plt.subplots(3,4, figsize=(20, 20), sharex=False)\n",
    "for ax, feature in zip(axes.flat, bor_no_dup.columns):\n",
    "    sns.boxplot(bor_no_dup[feature], ax=ax)"
   ]
  },
  {
   "cell_type": "markdown",
   "metadata": {},
   "source": [
    "Let's plot the distribution for each variable using histograms"
   ]
  },
  {
   "cell_type": "code",
   "execution_count": 12,
   "metadata": {},
   "outputs": [
    {
     "data": {
      "image/png": "[encoded data removed]",
      "text/plain": [
       "<Figure size 1440x1440 with 12 Axes>"
      ]
     },
     "metadata": {
      "needs_background": "light"
     },
     "output_type": "display_data"
    }
   ],
   "source": [
    "f, axes = plt.subplots(3,4, figsize=(20, 20), sharex=False)\n",
    "\n",
    "for ax, feature in zip(axes.flat, bor_no_dup.columns):\n",
    "    sns.distplot(bor_no_dup[feature], ax=ax, norm_hist=True)"
   ]
  },
  {
   "cell_type": "markdown",
   "metadata": {},
   "source": [
    "We'll plot again variable **age** fitting a normal curve on it to check how closer it gets to that distribution"
   ]
  },
  {
   "cell_type": "code",
   "execution_count": 13,
   "metadata": {},
   "outputs": [
    {
     "data": {
      "image/png": "[encoded data removed]",
      "text/plain": [
       "<Figure size 432x288 with 1 Axes>"
      ]
     },
     "metadata": {
      "needs_background": "light"
     },
     "output_type": "display_data"
    },
    {
     "data": {
      "text/plain": [
       "<Figure size 432x288 with 0 Axes>"
      ]
     },
     "metadata": {},
     "output_type": "display_data"
    }
   ],
   "source": [
    "sns.distplot(bor_no_dup['age'], fit=norm)\n",
    "\n",
    "fig = plt.figure()"
   ]
  },
  {
   "cell_type": "markdown",
   "metadata": {},
   "source": [
    "Let's do the same fitting for **number_of_open_credit_lines_and_loans**"
   ]
  },
  {
   "cell_type": "code",
   "execution_count": 14,
   "metadata": {},
   "outputs": [
    {
     "data": {
      "image/png": "[encoded data removed]",
      "text/plain": [
       "<Figure size 432x288 with 1 Axes>"
      ]
     },
     "metadata": {
      "needs_background": "light"
     },
     "output_type": "display_data"
    },
    {
     "data": {
      "text/plain": [
       "<Figure size 432x288 with 0 Axes>"
      ]
     },
     "metadata": {},
     "output_type": "display_data"
    }
   ],
   "source": [
    "sns.distplot(bor_no_dup['number_of_open_credit_lines_and_loans'], fit=norm)\n",
    "\n",
    "fig = plt.figure()"
   ]
  },
  {
   "cell_type": "markdown",
   "metadata": {},
   "source": [
    "Now let's check correlations between  all variable"
   ]
  },
  {
   "cell_type": "code",
   "execution_count": 15,
   "metadata": {},
   "outputs": [
    {
     "data": {
      "image/png": "[encoded data removed]",
      "text/plain": [
       "<Figure size 1800x1080 with 2 Axes>"
      ]
     },
     "metadata": {
      "needs_background": "light"
     },
     "output_type": "display_data"
    }
   ],
   "source": [
    "# Generate a mask for the upper triangle \n",
    "mask = np.zeros_like(bor_no_dup.corr(), dtype=np.bool)\n",
    "mask[np.triu_indices_from(mask)] = True\n",
    "\n",
    "plt.subplots(figsize = (25,15))\n",
    "sns.heatmap(bor_no_dup.corr(), \n",
    "            cmap=sns.diverging_palette(255, 133, l=60, n=7), \n",
    "            mask = mask, \n",
    "            annot=True, \n",
    "            center = 0, \n",
    "           );\n",
    "plt.title(\"Heatmap of Correlations\", fontsize = 25);"
   ]
  },
  {
   "cell_type": "markdown",
   "metadata": {},
   "source": [
    "* Variables **number_timer_*** variables are highly correlated, this gives us a hint regarding the creation of a new feature based on these three\n",
    "* **Age** and **number_of_dependents** is expected to be  negative correlated (-.22)\n",
    "* **loans_and_lines** features are also correlated (.43) maybe because both of theme include lines of open credits"
   ]
  },
  {
   "cell_type": "markdown",
   "metadata": {},
   "source": [
    "Now let's describe the data frame"
   ]
  },
  {
   "cell_type": "code",
   "execution_count": 16,
   "metadata": {},
   "outputs": [
    {
     "data": {
      "text/html": [
       "<div>\n",
       "<style scoped>\n",
       "    .dataframe tbody tr th:only-of-type {\n",
       "        vertical-align: middle;\n",
       "    }\n",
       "\n",
       "    .dataframe tbody tr th {\n",
       "        vertical-align: top;\n",
       "    }\n",
       "\n",
       "    .dataframe thead th {\n",
       "        text-align: right;\n",
       "    }\n",
       "</style>\n",
       "<table border=\"1\" class=\"dataframe\">\n",
       "  <thead>\n",
       "    <tr style=\"text-align: right;\">\n",
       "      <th></th>\n",
       "      <th>serious_dlqin2yrs</th>\n",
       "      <th>revolving_utilization_of_unsecured_lines</th>\n",
       "      <th>age</th>\n",
       "      <th>number_of_time30-59_days_past_due_not_worse</th>\n",
       "      <th>debt_ratio</th>\n",
       "      <th>monthly_income</th>\n",
       "      <th>number_of_open_credit_lines_and_loans</th>\n",
       "      <th>number_of_times90_days_late</th>\n",
       "      <th>number_real_estate_loans_or_lines</th>\n",
       "      <th>number_of_time60-89_days_past_due_not_worse</th>\n",
       "      <th>number_of_dependents</th>\n",
       "    </tr>\n",
       "  </thead>\n",
       "  <tbody>\n",
       "    <tr>\n",
       "      <th>count</th>\n",
       "      <td>149233.000000</td>\n",
       "      <td>149233.000000</td>\n",
       "      <td>149233.000000</td>\n",
       "      <td>149233.000000</td>\n",
       "      <td>149233.000000</td>\n",
       "      <td>1.201700e+05</td>\n",
       "      <td>149233.000000</td>\n",
       "      <td>149233.000000</td>\n",
       "      <td>149233.000000</td>\n",
       "      <td>149233.000000</td>\n",
       "      <td>149233.000000</td>\n",
       "    </tr>\n",
       "    <tr>\n",
       "      <th>mean</th>\n",
       "      <td>0.067036</td>\n",
       "      <td>6.077045</td>\n",
       "      <td>52.298145</td>\n",
       "      <td>0.388386</td>\n",
       "      <td>354.808254</td>\n",
       "      <td>6.675098e+03</td>\n",
       "      <td>8.488082</td>\n",
       "      <td>0.232435</td>\n",
       "      <td>1.023473</td>\n",
       "      <td>0.206811</td>\n",
       "      <td>0.741177</td>\n",
       "    </tr>\n",
       "    <tr>\n",
       "      <th>std</th>\n",
       "      <td>0.250085</td>\n",
       "      <td>250.396053</td>\n",
       "      <td>14.714050</td>\n",
       "      <td>3.779712</td>\n",
       "      <td>2042.891693</td>\n",
       "      <td>1.438958e+04</td>\n",
       "      <td>5.134233</td>\n",
       "      <td>3.752133</td>\n",
       "      <td>1.130304</td>\n",
       "      <td>3.736132</td>\n",
       "      <td>1.108596</td>\n",
       "    </tr>\n",
       "    <tr>\n",
       "      <th>min</th>\n",
       "      <td>0.000000</td>\n",
       "      <td>0.000000</td>\n",
       "      <td>0.000000</td>\n",
       "      <td>0.000000</td>\n",
       "      <td>0.000000</td>\n",
       "      <td>0.000000e+00</td>\n",
       "      <td>0.000000</td>\n",
       "      <td>0.000000</td>\n",
       "      <td>0.000000</td>\n",
       "      <td>0.000000</td>\n",
       "      <td>0.000000</td>\n",
       "    </tr>\n",
       "    <tr>\n",
       "      <th>25%</th>\n",
       "      <td>0.000000</td>\n",
       "      <td>0.030210</td>\n",
       "      <td>41.000000</td>\n",
       "      <td>0.000000</td>\n",
       "      <td>0.178098</td>\n",
       "      <td>3.400000e+03</td>\n",
       "      <td>5.000000</td>\n",
       "      <td>0.000000</td>\n",
       "      <td>0.000000</td>\n",
       "      <td>0.000000</td>\n",
       "      <td>0.000000</td>\n",
       "    </tr>\n",
       "    <tr>\n",
       "      <th>50%</th>\n",
       "      <td>0.000000</td>\n",
       "      <td>0.154285</td>\n",
       "      <td>52.000000</td>\n",
       "      <td>0.000000</td>\n",
       "      <td>0.368578</td>\n",
       "      <td>5.400000e+03</td>\n",
       "      <td>8.000000</td>\n",
       "      <td>0.000000</td>\n",
       "      <td>1.000000</td>\n",
       "      <td>0.000000</td>\n",
       "      <td>0.000000</td>\n",
       "    </tr>\n",
       "    <tr>\n",
       "      <th>75%</th>\n",
       "      <td>0.000000</td>\n",
       "      <td>0.555959</td>\n",
       "      <td>63.000000</td>\n",
       "      <td>0.000000</td>\n",
       "      <td>0.877090</td>\n",
       "      <td>8.250000e+03</td>\n",
       "      <td>11.000000</td>\n",
       "      <td>0.000000</td>\n",
       "      <td>2.000000</td>\n",
       "      <td>0.000000</td>\n",
       "      <td>1.000000</td>\n",
       "    </tr>\n",
       "    <tr>\n",
       "      <th>max</th>\n",
       "      <td>1.000000</td>\n",
       "      <td>50708.000000</td>\n",
       "      <td>109.000000</td>\n",
       "      <td>98.000000</td>\n",
       "      <td>329664.000000</td>\n",
       "      <td>3.008750e+06</td>\n",
       "      <td>58.000000</td>\n",
       "      <td>98.000000</td>\n",
       "      <td>54.000000</td>\n",
       "      <td>98.000000</td>\n",
       "      <td>20.000000</td>\n",
       "    </tr>\n",
       "  </tbody>\n",
       "</table>\n",
       "</div>"
      ],
      "text/plain": [
       "       serious_dlqin2yrs  revolving_utilization_of_unsecured_lines  \\\n",
       "count      149233.000000                             149233.000000   \n",
       "mean            0.067036                                  6.077045   \n",
       "std             0.250085                                250.396053   \n",
       "min             0.000000                                  0.000000   \n",
       "25%             0.000000                                  0.030210   \n",
       "50%             0.000000                                  0.154285   \n",
       "75%             0.000000                                  0.555959   \n",
       "max             1.000000                              50708.000000   \n",
       "\n",
       "                 age  number_of_time30-59_days_past_due_not_worse  \\\n",
       "count  149233.000000                                149233.000000   \n",
       "mean       52.298145                                     0.388386   \n",
       "std        14.714050                                     3.779712   \n",
       "min         0.000000                                     0.000000   \n",
       "25%        41.000000                                     0.000000   \n",
       "50%        52.000000                                     0.000000   \n",
       "75%        63.000000                                     0.000000   \n",
       "max       109.000000                                    98.000000   \n",
       "\n",
       "          debt_ratio  monthly_income  number_of_open_credit_lines_and_loans  \\\n",
       "count  149233.000000    1.201700e+05                          149233.000000   \n",
       "mean      354.808254    6.675098e+03                               8.488082   \n",
       "std      2042.891693    1.438958e+04                               5.134233   \n",
       "min         0.000000    0.000000e+00                               0.000000   \n",
       "25%         0.178098    3.400000e+03                               5.000000   \n",
       "50%         0.368578    5.400000e+03                               8.000000   \n",
       "75%         0.877090    8.250000e+03                              11.000000   \n",
       "max    329664.000000    3.008750e+06                              58.000000   \n",
       "\n",
       "       number_of_times90_days_late  number_real_estate_loans_or_lines  \\\n",
       "count                149233.000000                      149233.000000   \n",
       "mean                      0.232435                           1.023473   \n",
       "std                       3.752133                           1.130304   \n",
       "min                       0.000000                           0.000000   \n",
       "25%                       0.000000                           0.000000   \n",
       "50%                       0.000000                           1.000000   \n",
       "75%                       0.000000                           2.000000   \n",
       "max                      98.000000                          54.000000   \n",
       "\n",
       "       number_of_time60-89_days_past_due_not_worse  number_of_dependents  \n",
       "count                                149233.000000         149233.000000  \n",
       "mean                                      0.206811              0.741177  \n",
       "std                                       3.736132              1.108596  \n",
       "min                                       0.000000              0.000000  \n",
       "25%                                       0.000000              0.000000  \n",
       "50%                                       0.000000              0.000000  \n",
       "75%                                       0.000000              1.000000  \n",
       "max                                      98.000000             20.000000  "
      ]
     },
     "execution_count": 16,
     "metadata": {},
     "output_type": "execute_result"
    }
   ],
   "source": [
    "bor_no_dup.describe()"
   ]
  },
  {
   "cell_type": "markdown",
   "metadata": {},
   "source": [
    "Variable **serious_dlqin2yrs** seems to be binary, so let's compute values and percetages"
   ]
  },
  {
   "cell_type": "code",
   "execution_count": 17,
   "metadata": {},
   "outputs": [
    {
     "data": {
      "text/plain": [
       "0    0.932964\n",
       "1    0.067036\n",
       "Name: serious_dlqin2yrs, dtype: float64"
      ]
     },
     "execution_count": 17,
     "metadata": {},
     "output_type": "execute_result"
    }
   ],
   "source": [
    "bor_no_dup['serious_dlqin2yrs'].value_counts(normalize=True)"
   ]
  },
  {
   "cell_type": "markdown",
   "metadata": {},
   "source": [
    "Now we'll check NA's for all the variables in the data frame"
   ]
  },
  {
   "cell_type": "code",
   "execution_count": 18,
   "metadata": {},
   "outputs": [
    {
     "data": {
      "text/plain": [
       "serious_dlqin2yrs                                  0\n",
       "revolving_utilization_of_unsecured_lines           0\n",
       "age                                                0\n",
       "number_of_time30-59_days_past_due_not_worse        0\n",
       "debt_ratio                                         0\n",
       "monthly_income                                 29063\n",
       "number_of_open_credit_lines_and_loans              0\n",
       "number_of_times90_days_late                        0\n",
       "number_real_estate_loans_or_lines                  0\n",
       "number_of_time60-89_days_past_due_not_worse        0\n",
       "number_of_dependents                               0\n",
       "dtype: int64"
      ]
     },
     "execution_count": 18,
     "metadata": {},
     "output_type": "execute_result"
    }
   ],
   "source": [
    "bor_no_dup.isnull().sum()"
   ]
  },
  {
   "cell_type": "markdown",
   "metadata": {},
   "source": [
    "The only variable that has NA's is **monthly_income**"
   ]
  },
  {
   "cell_type": "markdown",
   "metadata": {},
   "source": [
    "## Summary\n",
    "- **serious_dlqin2yrs:** Binary attribute where around 92% of values are 0   \n",
    "- **revolving_utilization_of_unsecured_lines:** 75% of the values are below 0.6, high standard deviation tells us that the dispersion is high and there is also an extreme value close to 50000\n",
    "- **age :** The variable behaves similar to a normal distribution where the mean and median are  around 52 years\n",
    "- **number_of_time30-59_days_past_due_not_worse :** at least 75% of values are 0 and a couple of outliers near to 98   !!!\n",
    "- **debt_ratio :** We expect to have values between 0 and 1, most of the are (75% below 0.8), so we must check further   !!!!\n",
    "- **monthly_income :** Around 30% of the values are missing (29000/150000)     !!!!!!\n",
    "- **number_of_open_credit_lines_and_loans :** Nearly normal with positive skeweness\n",
    "- **number_of_times90_days_late :** at least 75% of values are 0 and a couple of outliers near to 98 \n",
    "- **number_real_estate_loans_or_lines :**  It shows some of outliers but the stard deviation is low and mean and median are similar\n",
    "- **number_of_time60-89_days_past_due_not_worse :** at least 75% of values are 0 and a couple of outliers near to 98 \n",
    "- **number_of_dependents :** It shows some of outliers but the stard deviation is low and mean and median are similar"
   ]
  },
  {
   "cell_type": "markdown",
   "metadata": {},
   "source": [
    "So from now on we'll be working deeper on **number_of_times_***, **debt_ratio** and **monthly_income**"
   ]
  },
  {
   "cell_type": "markdown",
   "metadata": {},
   "source": [
    "## Variables  **number_of_times_***"
   ]
  },
  {
   "cell_type": "markdown",
   "metadata": {},
   "source": [
    "Variables **number_of_time30-59_days_past_due_not_worse** , **number_of_times90_days_late** and **number_of_time60-89_days_past_due_not_worse**\n",
    "show very extreme values greater than 90,  let's plot:"
   ]
  },
  {
   "cell_type": "code",
   "execution_count": 19,
   "metadata": {},
   "outputs": [
    {
     "data": {
      "text/plain": [
       "<seaborn.axisgrid.PairGrid at 0xd937384470>"
      ]
     },
     "execution_count": 19,
     "metadata": {},
     "output_type": "execute_result"
    },
    {
     "data": {
      "image/png": "[encoded data removed]",
      "text/plain": [
       "<Figure size 540x540 with 12 Axes>"
      ]
     },
     "metadata": {
      "needs_background": "light"
     },
     "output_type": "display_data"
    }
   ],
   "source": [
    "sns.pairplot(bor_no_dup[['number_of_time30-59_days_past_due_not_worse','number_of_time60-89_days_past_due_not_worse','number_of_times90_days_late']])"
   ]
  },
  {
   "cell_type": "markdown",
   "metadata": {},
   "source": [
    "Visualization suggests us that there are some isolated values around 100 so we'll count those greater than 90 for all the  **number_of_times_*** variables:"
   ]
  },
  {
   "cell_type": "code",
   "execution_count": 20,
   "metadata": {},
   "outputs": [
    {
     "name": "stdout",
     "output_type": "stream",
     "text": [
      "216 216 216\n"
     ]
    }
   ],
   "source": [
    "threshold = 90\n",
    "\n",
    "n_due_30 = bor_no_dup[bor_no_dup['number_of_time30-59_days_past_due_not_worse'] > threshold]['number_of_time30-59_days_past_due_not_worse'].count() \n",
    "n_due_60 = bor_no_dup[bor_no_dup['number_of_time60-89_days_past_due_not_worse'] > threshold]['number_of_time60-89_days_past_due_not_worse'].count() \n",
    "n_due_90 = bor_no_dup[bor_no_dup['number_of_times90_days_late'] > threshold]['number_of_times90_days_late'].count() \n",
    "\n",
    "print(n_due_30, n_due_60, n_due_90)"
   ]
  },
  {
   "cell_type": "markdown",
   "metadata": {},
   "source": [
    "So now we know the three variables have the same amount (216) of values greater than 90. In order to be sure that those values are in the same row, \n",
    "we'll get a pandas series of booleans, then create a list and compare them:"
   ]
  },
  {
   "cell_type": "code",
   "execution_count": 21,
   "metadata": {},
   "outputs": [
    {
     "data": {
      "text/plain": [
       "True"
      ]
     },
     "execution_count": 21,
     "metadata": {},
     "output_type": "execute_result"
    }
   ],
   "source": [
    "list_30 = list(bor_no_dup.loc[: , 'number_of_time30-59_days_past_due_not_worse'] > threshold)\n",
    "list_60 = list(bor_no_dup.loc[: , 'number_of_time60-89_days_past_due_not_worse'] > threshold)\n",
    "list_90 = list(bor_no_dup.loc[: , 'number_of_times90_days_late'] > threshold)\n",
    "\n",
    "list_30 == list_60 == list_90   "
   ]
  },
  {
   "cell_type": "markdown",
   "metadata": {},
   "source": [
    "Now we're sure the extreme values are in the same position, so removing them will only decrease the dataframe on 216, a very low percentage of the total:"
   ]
  },
  {
   "cell_type": "code",
   "execution_count": 27,
   "metadata": {},
   "outputs": [],
   "source": [
    "bor_no_due_outlier = bor_no_dup.loc[bor_no_dup['number_of_time30-59_days_past_due_not_worse'] < threshold ]"
   ]
  },
  {
   "cell_type": "markdown",
   "metadata": {},
   "source": [
    "Our new data frame is  **bor_no_due_outlier**"
   ]
  },
  {
   "cell_type": "markdown",
   "metadata": {},
   "source": [
    "## Variable **debt_ratio**"
   ]
  },
  {
   "cell_type": "markdown",
   "metadata": {},
   "source": [
    "**WE EXPECT** a ratio to be between 0 and 1. **WE ASSUME** that cases where debts are greater than incomes make totaly sense  , so let's check debt_ratio greater than 1"
   ]
  },
  {
   "cell_type": "code",
   "execution_count": 28,
   "metadata": {},
   "outputs": [
    {
     "data": {
      "text/plain": [
       "35099"
      ]
     },
     "execution_count": 28,
     "metadata": {},
     "output_type": "execute_result"
    }
   ],
   "source": [
    "df_ration_greater_1 = bor_no_due_outlier[bor_no_due_outlier['debt_ratio'] > 1]\n",
    "\n",
    "df_ration_greater_1['debt_ratio'].count()"
   ]
  },
  {
   "cell_type": "markdown",
   "metadata": {},
   "source": [
    "Almost 23% (35099/150000) of values for deb_rate are grater than 1, we can't drop that amount of values so let's see how values behave for this subset"
   ]
  },
  {
   "cell_type": "code",
   "execution_count": 29,
   "metadata": {},
   "outputs": [
    {
     "data": {
      "text/plain": [
       "count     35099.000000\n",
       "mean       1507.529513\n",
       "std        4000.914444\n",
       "min           1.000500\n",
       "25%          42.581683\n",
       "50%         910.000000\n",
       "75%        2211.000000\n",
       "max      329664.000000\n",
       "Name: debt_ratio, dtype: float64"
      ]
     },
     "execution_count": 29,
     "metadata": {},
     "output_type": "execute_result"
    }
   ],
   "source": [
    "df_ration_greater_1['debt_ratio'].describe()"
   ]
  },
  {
   "cell_type": "markdown",
   "metadata": {},
   "source": [
    "Bearing in mind that 75% of values of the are below 0.86 and based on the quartiles distribution printed above for values greater than 1, \n",
    "we'll discretize them as ordinal variables with the following criterion:\n",
    "* 1 = 0 ratio\n",
    "* 2 = (0 - 0.5] \n",
    "* 3 = (0.5 - 1]\n",
    "* 4 = (1 - 43]\n",
    "* 5 = (43 - 907]\n",
    "* 6 = (907 , 999999]))\n",
    "\n",
    "**We assume that risk increases as debt category increases...**"
   ]
  },
  {
   "cell_type": "code",
   "execution_count": 30,
   "metadata": {},
   "outputs": [
    {
     "data": {
      "text/plain": [
       "1     3206\n",
       "2    89563\n",
       "3    21149\n",
       "4     8835\n",
       "5     8698\n",
       "6    17566\n",
       "Name: debt_label, dtype: int64"
      ]
     },
     "execution_count": 30,
     "metadata": {},
     "output_type": "execute_result"
    }
   ],
   "source": [
    "cut_labels = list(range(1,7))\n",
    "\n",
    "cut_bins = [-1, 0, 0.5, 1 , 43, 907, 999999]\n",
    "\n",
    "bor_no_due_outlier['debt_label'] = pd.cut(bor_no_due_outlier['debt_ratio'], bins=cut_bins, labels=cut_labels)\n",
    "\n",
    "bor_no_due_outlier['debt_label'].value_counts(sort=False)"
   ]
  },
  {
   "cell_type": "markdown",
   "metadata": {},
   "source": [
    "**debt_ratio** is no longer needed, we'll drop it"
   ]
  },
  {
   "cell_type": "code",
   "execution_count": 31,
   "metadata": {},
   "outputs": [],
   "source": [
    "bor_no_due_outlier.drop('debt_ratio', inplace=True, axis = 1)"
   ]
  },
  {
   "cell_type": "markdown",
   "metadata": {},
   "source": [
    "## Variable **monthly_income**"
   ]
  },
  {
   "cell_type": "code",
   "execution_count": 32,
   "metadata": {},
   "outputs": [
    {
     "name": "stdout",
     "output_type": "stream",
     "text": [
      "Total of missing values: 28992\n"
     ]
    }
   ],
   "source": [
    "print(\"Total of missing values:\", bor_no_due_outlier.monthly_income.isnull().sum())"
   ]
  },
  {
   "cell_type": "code",
   "execution_count": 33,
   "metadata": {},
   "outputs": [
    {
     "name": "stdout",
     "output_type": "stream",
     "text": [
      "Description  count    1.200250e+05\n",
      "mean     6.680009e+03\n",
      "std      1.439726e+04\n",
      "min      0.000000e+00\n",
      "25%      3.400000e+03\n",
      "50%      5.400000e+03\n",
      "75%      8.250000e+03\n",
      "max      3.008750e+06\n",
      "Name: monthly_income, dtype: float64\n"
     ]
    }
   ],
   "source": [
    "print(\"Description \", bor_no_due_outlier.monthly_income.describe())"
   ]
  },
  {
   "cell_type": "markdown",
   "metadata": {},
   "source": [
    "First we'll create subsets for data with and without NA's"
   ]
  },
  {
   "cell_type": "code",
   "execution_count": 34,
   "metadata": {},
   "outputs": [],
   "source": [
    "mi_no_na = bor_no_due_outlier[bor_no_due_outlier.monthly_income.notnull()]\n",
    "\n",
    "mi_na  = bor_no_due_outlier[bor_no_due_outlier.monthly_income.isnull()]"
   ]
  },
  {
   "cell_type": "markdown",
   "metadata": {},
   "source": [
    " We will work with the subset that has no NA's to asses some technique to impute values.\n",
    " **X** will contain the features and **y** the target."
   ]
  },
  {
   "cell_type": "code",
   "execution_count": 36,
   "metadata": {},
   "outputs": [
    {
     "name": "stdout",
     "output_type": "stream",
     "text": [
      "Filas del dataset original: 120025\n",
      "Filas del dataset de entrenamiento: 108022\n",
      "Filas del dataset de test: 12003\n"
     ]
    }
   ],
   "source": [
    "features, target = mi_no_na.loc[:, mi_no_na.columns != 'monthly_income'], mi_no_na.monthly_income \n",
    "\n",
    "X_train, X_test, y_train, y_test = train_test_split(features,\n",
    "                                                    target, \n",
    "                                                    test_size=0.1,\n",
    "                                                    random_state=42)\n",
    "print(\"Filas del dataset original:\",features.shape[0])\n",
    "print(\"Filas del dataset de entrenamiento:\",X_train.shape[0])\n",
    "print(\"Filas del dataset de test:\",X_test.shape[0])"
   ]
  },
  {
   "cell_type": "markdown",
   "metadata": {},
   "source": [
    "Given that the target variable is  continuous we can use regression as a **base line**. We'll try out **ridge**  with different solvers:\n",
    "* SVD \n",
    "* Least Squares\n",
    "* Gradien based (SAG)\n",
    "\n",
    "https://scikit-learn.org/stable/modules/generated/sklearn.linear_model.Ridge.html\n",
    "\n",
    "We'll also evaluate Mean & median imputation and Neural-nets\n"
   ]
  },
  {
   "cell_type": "markdown",
   "metadata": {},
   "source": [
    "We know beforehand that **monthly_income** has correlation around 0 with the rest of the variables, what makes the imputation task even harder !!!!! :("
   ]
  },
  {
   "cell_type": "markdown",
   "metadata": {},
   "source": [
    "**Ridge Regression**"
   ]
  },
  {
   "cell_type": "markdown",
   "metadata": {},
   "source": [
    "Ridge regression with grid search for exhaustive search over specified parameter values for an estimator"
   ]
  },
  {
   "cell_type": "code",
   "execution_count": 181,
   "metadata": {},
   "outputs": [
    {
     "name": "stdout",
     "output_type": "stream",
     "text": [
      "# Exploration of hyperparameters for solver function \"svd\"\n",
      "\n",
      "R2 value for training set:  0.05350512347609626\n",
      "\n",
      "Parameters best combination:\n",
      "{'alpha': 0.01, 'fit_intercept': 'True', 'normalize': 'True'}\n",
      "\n",
      "Metrics for the best classifier (on evaluation set):\n",
      "\n",
      "R2 value for testing:  0.010132417098072333\n",
      "MSE value for testing:  796030684.40443\n",
      "MAE value for testing:  3080.234498501256\n",
      "\n",
      "================================================\n",
      "\n",
      "# Exploration of hyperparameters for solver function \"lsqr\"\n",
      "\n",
      "R2 value for training set:  0.05350287820153565\n",
      "\n",
      "Parameters best combination:\n",
      "{'alpha': 0.01, 'fit_intercept': 'True', 'normalize': 'True'}\n",
      "\n",
      "Metrics for the best classifier (on evaluation set):\n",
      "\n",
      "R2 value for testing:  0.010123361237091455\n",
      "MSE value for testing:  796037966.9373051\n",
      "MAE value for testing:  3080.216287128474\n",
      "\n",
      "================================================\n",
      "\n",
      "# Exploration of hyperparameters for solver function \"sag\"\n",
      "\n",
      "R2 value for training set:  0.05350530481661986\n",
      "\n",
      "Parameters best combination:\n",
      "{'alpha': 0.01, 'fit_intercept': 'False', 'normalize': 'False'}\n",
      "\n",
      "Metrics for the best classifier (on evaluation set):\n",
      "\n",
      "R2 value for testing:  0.010133293336420102\n",
      "MSE value for testing:  796029979.7519858\n",
      "MAE value for testing:  3080.271410714171\n",
      "\n",
      "================================================\n",
      "\n"
     ]
    }
   ],
   "source": [
    "np.random.seed(42) \n",
    "for idx, solver in enumerate(('svd','lsqr', 'sag'), start=1):\n",
    "    exploring_params = {\n",
    "        'normalize': ['True','False'],  \n",
    "        'fit_intercept': ['True','False'],  \n",
    "        'alpha': [ 0.1, 0.01, 0.001, 0.0001]  # Regularization term\n",
    "                        }\n",
    "    \n",
    "    m = Ridge(solver=solver, tol=1e-3)\n",
    "    model = GridSearchCV(m, exploring_params, cv=5, scoring='r2', n_jobs=-1) # cross validation spliting technique   \n",
    "    model.fit(X_train, y_train)\n",
    "    \n",
    "    \n",
    "    print(\"# Exploration of hyperparameters for solver function \\\"%s\\\"\" % solver, end=\"\\n\\n\")\n",
    "    print(\"R2 value for training set: \",model.score(X_train, y_train), end=\"\\n\\n\")\n",
    "    \n",
    "    print(\"Parameters best combination:\", end=\"\\n\")\n",
    "    print(model.best_params_, end=\"\\n\\n\")\n",
    "\n",
    "    print(\"Metrics for the best classifier (on evaluation set):\", end=\"\\n\\n\")\n",
    "    y_true, y_pred = y_test, model.predict(X_test)\n",
    "    print(\"R2 value for testing: \", metrics.r2_score(y_true,y_pred), end=\"\\n\") \n",
    "    print(\"MSE value for testing: \", metrics.mean_squared_error(y_true,y_pred), end=\"\\n\")\n",
    "    print(\"MAE value for testing: \", metrics.mean_absolute_error(y_true,y_pred), end=\"\\n\\n\")\n",
    "    print(\"================================================\", end=\"\\n\\n\")"
   ]
  },
  {
   "cell_type": "markdown",
   "metadata": {},
   "source": [
    "There's no significant difference between the approache, MAE is arounf 3080 for all of them..."
   ]
  },
  {
   "cell_type": "markdown",
   "metadata": {},
   "source": [
    "**Mean & median**"
   ]
  },
  {
   "cell_type": "code",
   "execution_count": 39,
   "metadata": {},
   "outputs": [],
   "source": [
    "mi_mean = y_train.mean()\n",
    "\n",
    "mi_median = y_train.median()"
   ]
  },
  {
   "cell_type": "markdown",
   "metadata": {},
   "source": [
    "Let's create a dataframe and compute the performance for both imputations techniques"
   ]
  },
  {
   "cell_type": "code",
   "execution_count": 183,
   "metadata": {},
   "outputs": [
    {
     "name": "stdout",
     "output_type": "stream",
     "text": [
      "MSE for mean 804207469.326304\n",
      "MAE for mean 3733.8706315202194\n",
      "\n",
      "MSE for median: 806229493.4353079\n",
      "MAE for median 3571.463634091477\n"
     ]
    }
   ],
   "source": [
    "mi_subset = pd.DataFrame({'y':y_test.T.squeeze(), 'mi_mean':mi_mean, 'mi_median':mi_median}) ##  DataFrames with a single column or a single row are squeezed to a Series\n",
    "\n",
    "print(\"MSE for mean\",metrics.mean_squared_error(mi_subset['y'],mi_subset['mi_mean']))\n",
    "print(\"MAE for mean\",metrics.mean_absolute_error(mi_subset['y'],mi_subset['mi_mean']),end=\"\\n\\n\")\n",
    "print(\"MSE for median:\",metrics.mean_squared_error(mi_subset['y'],mi_subset['mi_median']))\n",
    "print(\"MAE for median\",metrics.mean_absolute_error(mi_subset['y'],mi_subset['mi_median']))"
   ]
  },
  {
   "cell_type": "markdown",
   "metadata": {},
   "source": [
    "Imputation of the median make the error decrease compared to a regression apporach..."
   ]
  },
  {
   "cell_type": "markdown",
   "metadata": {},
   "source": [
    "**Neural Nets**"
   ]
  },
  {
   "cell_type": "markdown",
   "metadata": {},
   "source": [
    "For NN we'll work with the complete dataframe"
   ]
  },
  {
   "cell_type": "code",
   "execution_count": 41,
   "metadata": {},
   "outputs": [],
   "source": [
    "nn_features, nn_target = bor_no_due_outlier.loc[:, bor_no_due_outlier.columns != 'monthly_income'], bor_no_due_outlier.monthly_income "
   ]
  },
  {
   "cell_type": "markdown",
   "metadata": {},
   "source": [
    "Working with NN requires scaling values for features, let-s do that for the **entire** dataframe"
   ]
  },
  {
   "cell_type": "code",
   "execution_count": 42,
   "metadata": {},
   "outputs": [],
   "source": [
    "standardScaler = StandardScaler()\n",
    "\n",
    "nn_feat_scaled = pd.DataFrame(standardScaler.fit_transform(nn_features), \n",
    "                                columns=nn_features.columns,\n",
    "                                index=nn_features.index)"
   ]
  },
  {
   "cell_type": "markdown",
   "metadata": {},
   "source": [
    "Concatenate all data"
   ]
  },
  {
   "cell_type": "code",
   "execution_count": 43,
   "metadata": {},
   "outputs": [],
   "source": [
    "nn_data = pd.concat([nn_feat_scaled, nn_target], axis=1,sort=False)"
   ]
  },
  {
   "cell_type": "markdown",
   "metadata": {},
   "source": [
    "Separate rows with NA's, so we'll predict this missing values later on..."
   ]
  },
  {
   "cell_type": "code",
   "execution_count": 44,
   "metadata": {},
   "outputs": [],
   "source": [
    "nn_data_no_na = nn_data[nn_data.monthly_income.notnull()]\n",
    "\n",
    "nn_data_na  = nn_data[nn_data.monthly_income.isnull()]"
   ]
  },
  {
   "cell_type": "code",
   "execution_count": 45,
   "metadata": {},
   "outputs": [
    {
     "data": {
      "text/html": [
       "<div>\n",
       "<style scoped>\n",
       "    .dataframe tbody tr th:only-of-type {\n",
       "        vertical-align: middle;\n",
       "    }\n",
       "\n",
       "    .dataframe tbody tr th {\n",
       "        vertical-align: top;\n",
       "    }\n",
       "\n",
       "    .dataframe thead th {\n",
       "        text-align: right;\n",
       "    }\n",
       "</style>\n",
       "<table border=\"1\" class=\"dataframe\">\n",
       "  <thead>\n",
       "    <tr style=\"text-align: right;\">\n",
       "      <th></th>\n",
       "      <th>serious_dlqin2yrs</th>\n",
       "      <th>revolving_utilization_of_unsecured_lines</th>\n",
       "      <th>age</th>\n",
       "      <th>number_of_time30-59_days_past_due_not_worse</th>\n",
       "      <th>number_of_open_credit_lines_and_loans</th>\n",
       "      <th>number_of_times90_days_late</th>\n",
       "      <th>number_real_estate_loans_or_lines</th>\n",
       "      <th>number_of_time60-89_days_past_due_not_worse</th>\n",
       "      <th>number_of_dependents</th>\n",
       "      <th>debt_label</th>\n",
       "      <th>monthly_income</th>\n",
       "    </tr>\n",
       "  </thead>\n",
       "  <tbody>\n",
       "    <tr>\n",
       "      <th>0</th>\n",
       "      <td>3.75432</td>\n",
       "      <td>-0.021224</td>\n",
       "      <td>-0.497914</td>\n",
       "      <td>2.507069</td>\n",
       "      <td>0.877502</td>\n",
       "      <td>-0.186607</td>\n",
       "      <td>4.400954</td>\n",
       "      <td>-0.196863</td>\n",
       "      <td>1.134827</td>\n",
       "      <td>0.080332</td>\n",
       "      <td>9120.0</td>\n",
       "    </tr>\n",
       "    <tr>\n",
       "      <th>1</th>\n",
       "      <td>-0.26636</td>\n",
       "      <td>-0.020462</td>\n",
       "      <td>-0.837965</td>\n",
       "      <td>-0.353192</td>\n",
       "      <td>-0.877647</td>\n",
       "      <td>-0.186607</td>\n",
       "      <td>-0.906683</td>\n",
       "      <td>-0.196863</td>\n",
       "      <td>0.232982</td>\n",
       "      <td>-0.621933</td>\n",
       "      <td>2600.0</td>\n",
       "    </tr>\n",
       "    <tr>\n",
       "      <th>2</th>\n",
       "      <td>-0.26636</td>\n",
       "      <td>-0.021655</td>\n",
       "      <td>-0.973985</td>\n",
       "      <td>1.076938</td>\n",
       "      <td>-1.267681</td>\n",
       "      <td>1.868803</td>\n",
       "      <td>-0.906683</td>\n",
       "      <td>-0.196863</td>\n",
       "      <td>-0.668863</td>\n",
       "      <td>-0.621933</td>\n",
       "      <td>3042.0</td>\n",
       "    </tr>\n",
       "    <tr>\n",
       "      <th>3</th>\n",
       "      <td>-0.26636</td>\n",
       "      <td>-0.023349</td>\n",
       "      <td>-1.518066</td>\n",
       "      <td>-0.353192</td>\n",
       "      <td>-0.682631</td>\n",
       "      <td>-0.186607</td>\n",
       "      <td>-0.906683</td>\n",
       "      <td>-0.196863</td>\n",
       "      <td>-0.668863</td>\n",
       "      <td>-0.621933</td>\n",
       "      <td>3300.0</td>\n",
       "    </tr>\n",
       "    <tr>\n",
       "      <th>4</th>\n",
       "      <td>-0.26636</td>\n",
       "      <td>-0.020661</td>\n",
       "      <td>-0.225873</td>\n",
       "      <td>1.076938</td>\n",
       "      <td>-0.292598</td>\n",
       "      <td>-0.186607</td>\n",
       "      <td>-0.022077</td>\n",
       "      <td>-0.196863</td>\n",
       "      <td>-0.668863</td>\n",
       "      <td>-0.621933</td>\n",
       "      <td>63588.0</td>\n",
       "    </tr>\n",
       "  </tbody>\n",
       "</table>\n",
       "</div>"
      ],
      "text/plain": [
       "   serious_dlqin2yrs  revolving_utilization_of_unsecured_lines       age  \\\n",
       "0            3.75432                                 -0.021224 -0.497914   \n",
       "1           -0.26636                                 -0.020462 -0.837965   \n",
       "2           -0.26636                                 -0.021655 -0.973985   \n",
       "3           -0.26636                                 -0.023349 -1.518066   \n",
       "4           -0.26636                                 -0.020661 -0.225873   \n",
       "\n",
       "   number_of_time30-59_days_past_due_not_worse  \\\n",
       "0                                     2.507069   \n",
       "1                                    -0.353192   \n",
       "2                                     1.076938   \n",
       "3                                    -0.353192   \n",
       "4                                     1.076938   \n",
       "\n",
       "   number_of_open_credit_lines_and_loans  number_of_times90_days_late  \\\n",
       "0                               0.877502                    -0.186607   \n",
       "1                              -0.877647                    -0.186607   \n",
       "2                              -1.267681                     1.868803   \n",
       "3                              -0.682631                    -0.186607   \n",
       "4                              -0.292598                    -0.186607   \n",
       "\n",
       "   number_real_estate_loans_or_lines  \\\n",
       "0                           4.400954   \n",
       "1                          -0.906683   \n",
       "2                          -0.906683   \n",
       "3                          -0.906683   \n",
       "4                          -0.022077   \n",
       "\n",
       "   number_of_time60-89_days_past_due_not_worse  number_of_dependents  \\\n",
       "0                                    -0.196863              1.134827   \n",
       "1                                    -0.196863              0.232982   \n",
       "2                                    -0.196863             -0.668863   \n",
       "3                                    -0.196863             -0.668863   \n",
       "4                                    -0.196863             -0.668863   \n",
       "\n",
       "   debt_label  monthly_income  \n",
       "0    0.080332          9120.0  \n",
       "1   -0.621933          2600.0  \n",
       "2   -0.621933          3042.0  \n",
       "3   -0.621933          3300.0  \n",
       "4   -0.621933         63588.0  "
      ]
     },
     "execution_count": 45,
     "metadata": {},
     "output_type": "execute_result"
    }
   ],
   "source": [
    "nn_data_no_na.head(n=5)"
   ]
  },
  {
   "cell_type": "markdown",
   "metadata": {},
   "source": [
    "Let's work with the dataset without NA's and split test and train"
   ]
  },
  {
   "cell_type": "code",
   "execution_count": 46,
   "metadata": {},
   "outputs": [],
   "source": [
    "X, y = nn_data_no_na.loc[:, nn_data_no_na.columns != 'monthly_income'], nn_data_no_na.monthly_income\n",
    "\n",
    "X_train, X_test, y_train, y_test = train_test_split(X,\n",
    "                                                    y, \n",
    "                                                    test_size = 0.1, \n",
    "                                                    random_state=42)                                                 "
   ]
  },
  {
   "cell_type": "markdown",
   "metadata": {},
   "source": [
    "We'll create a simple sequential model with 1 hidden layer and droput regularization, ELU as activation funtion , our optimizer will be Adam with a learnin rate of 10E-4 and cost function MSE."
   ]
  },
  {
   "cell_type": "code",
   "execution_count": 47,
   "metadata": {},
   "outputs": [],
   "source": [
    "def build_model():\n",
    "    model = tf.keras.Sequential([\n",
    "        layers.Dense(32, activation='elu', input_shape=[len(X_train.keys())]),\n",
    "        layers.Dropout(0.2),\n",
    "        layers.Dense(64, activation='elu'),\n",
    "        layers.Dense(1)\n",
    "    ])\n",
    "    \n",
    "    optimizer = tf.keras.optimizers.Adam(0.0001)\n",
    "\n",
    "    model.compile(loss='mse',\n",
    "                  optimizer=optimizer,\n",
    "                  metrics=['mae', 'mse'])\n",
    "    return model"
   ]
  },
  {
   "cell_type": "markdown",
   "metadata": {},
   "source": [
    "Instantiate the model and  plot the architecture"
   ]
  },
  {
   "cell_type": "code",
   "execution_count": 48,
   "metadata": {},
   "outputs": [
    {
     "name": "stdout",
     "output_type": "stream",
     "text": [
      "Model: \"sequential\"\n",
      "_________________________________________________________________\n",
      "Layer (type)                 Output Shape              Param #   \n",
      "=================================================================\n",
      "dense (Dense)                (None, 32)                352       \n",
      "_________________________________________________________________\n",
      "dropout (Dropout)            (None, 32)                0         \n",
      "_________________________________________________________________\n",
      "dense_1 (Dense)              (None, 64)                2112      \n",
      "_________________________________________________________________\n",
      "dense_2 (Dense)              (None, 1)                 65        \n",
      "=================================================================\n",
      "Total params: 2,529\n",
      "Trainable params: 2,529\n",
      "Non-trainable params: 0\n",
      "_________________________________________________________________\n"
     ]
    }
   ],
   "source": [
    "model_elu_64 = build_model()\n",
    "\n",
    "model_elu_64.summary()"
   ]
  },
  {
   "cell_type": "markdown",
   "metadata": {},
   "source": [
    "We'll train he NN for 20 epochs, telling the fitter to stop if validation loss doesn't get better after 5 epochs !!!!"
   ]
  },
  {
   "cell_type": "code",
   "execution_count": 49,
   "metadata": {},
   "outputs": [
    {
     "name": "stdout",
     "output_type": "stream",
     "text": [
      "Epoch 1/20\n",
      "2701/2701 [==============================] - 5s 2ms/step - loss: 169739472.0000 - mae: 6617.5796 - mse: 169739472.0000 - val_loss: 243765120.0000 - val_mae: 6592.5034 - val_mse: 243765120.0000\n",
      "Epoch 2/20\n",
      "2701/2701 [==============================] - 5s 2ms/step - loss: 165140368.0000 - mae: 6316.9385 - mse: 165140368.0000 - val_loss: 236123792.0000 - val_mae: 6088.6997 - val_mse: 236123792.0000\n",
      "Epoch 3/20\n",
      "2701/2701 [==============================] - 5s 2ms/step - loss: 155349712.0000 - mae: 5617.5415 - mse: 155349712.0000 - val_loss: 224089968.0000 - val_mae: 5194.1812 - val_mse: 224089968.0000\n",
      "Epoch 4/20\n",
      "2701/2701 [==============================] - 5s 2ms/step - loss: 142298320.0000 - mae: 4558.5718 - mse: 142298320.0000 - val_loss: 210446272.0000 - val_mae: 4049.2844 - val_mse: 210446272.0000\n",
      "Epoch 5/20\n",
      "2701/2701 [==============================] - 5s 2ms/step - loss: 131009824.0000 - mae: 3589.0579 - mse: 131009824.0000 - val_loss: 200799872.0000 - val_mae: 3302.6863 - val_mse: 200799872.0000\n",
      "Epoch 6/20\n",
      "2701/2701 [==============================] - 5s 2ms/step - loss: 124337656.0000 - mae: 3166.7292 - mse: 124337656.0000 - val_loss: 196340272.0000 - val_mae: 3135.8052 - val_mse: 196340272.0000\n",
      "Epoch 7/20\n",
      "2701/2701 [==============================] - 5s 2ms/step - loss: 122208384.0000 - mae: 3126.0830 - mse: 122208384.0000 - val_loss: 195193616.0000 - val_mae: 3139.0137 - val_mse: 195193616.0000\n",
      "Epoch 8/20\n",
      "2701/2701 [==============================] - 5s 2ms/step - loss: 121629608.0000 - mae: 3124.2532 - mse: 121629608.0000 - val_loss: 194535920.0000 - val_mae: 3121.0479 - val_mse: 194535920.0000\n",
      "Epoch 9/20\n",
      "2701/2701 [==============================] - 5s 2ms/step - loss: 121046720.0000 - mae: 3094.6389 - mse: 121046720.0000 - val_loss: 193988192.0000 - val_mae: 3080.5483 - val_mse: 193988192.0000\n",
      "Epoch 10/20\n",
      "2701/2701 [==============================] - 5s 2ms/step - loss: 120581032.0000 - mae: 3047.5801 - mse: 120581032.0000 - val_loss: 193508848.0000 - val_mae: 3042.0850 - val_mse: 193508848.0000\n",
      "Epoch 11/20\n",
      "2701/2701 [==============================] - 5s 2ms/step - loss: 120044872.0000 - mae: 3011.3389 - mse: 120044872.0000 - val_loss: 193116512.0000 - val_mae: 3013.0522 - val_mse: 193116512.0000\n",
      "Epoch 12/20\n",
      "2701/2701 [==============================] - 5s 2ms/step - loss: 119811280.0000 - mae: 2984.6726 - mse: 119811280.0000 - val_loss: 192830784.0000 - val_mae: 2985.1736 - val_mse: 192830784.0000\n",
      "Epoch 13/20\n",
      "2701/2701 [==============================] - 5s 2ms/step - loss: 119575792.0000 - mae: 2960.9656 - mse: 119575792.0000 - val_loss: 192613776.0000 - val_mae: 2975.0491 - val_mse: 192613776.0000\n",
      "Epoch 14/20\n",
      "2701/2701 [==============================] - 5s 2ms/step - loss: 119335176.0000 - mae: 2952.0264 - mse: 119335176.0000 - val_loss: 192461264.0000 - val_mae: 2966.4424 - val_mse: 192461264.0000\n",
      "Epoch 15/20\n",
      "2701/2701 [==============================] - 5s 2ms/step - loss: 119300920.0000 - mae: 2943.9973 - mse: 119300920.0000 - val_loss: 192350688.0000 - val_mae: 2961.6528 - val_mse: 192350688.0000\n",
      "Epoch 16/20\n",
      "2701/2701 [==============================] - 5s 2ms/step - loss: 119299576.0000 - mae: 2942.3577 - mse: 119299576.0000 - val_loss: 192266528.0000 - val_mae: 2956.0386 - val_mse: 192266528.0000\n",
      "Epoch 17/20\n",
      "2701/2701 [==============================] - 5s 2ms/step - loss: 119197576.0000 - mae: 2936.4683 - mse: 119197576.0000 - val_loss: 192191152.0000 - val_mae: 2960.1707 - val_mse: 192191152.0000\n",
      "Epoch 18/20\n",
      "2701/2701 [==============================] - 5s 2ms/step - loss: 119103624.0000 - mae: 2933.2197 - mse: 119103624.0000 - val_loss: 192140224.0000 - val_mae: 2957.0039 - val_mse: 192140224.0000\n",
      "Epoch 19/20\n",
      "2701/2701 [==============================] - 5s 2ms/step - loss: 119124216.0000 - mae: 2935.0627 - mse: 119124216.0000 - val_loss: 192116256.0000 - val_mae: 2946.5654 - val_mse: 192116256.0000\n",
      "Epoch 20/20\n",
      "2701/2701 [==============================] - 5s 2ms/step - loss: 119110160.0000 - mae: 2931.3167 - mse: 119110160.0000 - val_loss: 192077520.0000 - val_mae: 2947.0225 - val_mse: 192077520.0000\n"
     ]
    }
   ],
   "source": [
    "n_epochs = 20\n",
    "\n",
    "early_stop = tf.keras.callbacks.EarlyStopping(monitor='val_loss', patience=5)\n",
    "\n",
    "training_hist= model_elu_64.fit(X_train, \n",
    "                                y_train,\n",
    "                                epochs = n_epochs, \n",
    "                                validation_split = 0.2, \n",
    "                                verbose = True,\n",
    "                                callbacks=[early_stop])    "
   ]
  },
  {
   "cell_type": "markdown",
   "metadata": {},
   "source": [
    "Create a dataframe with the metrics by epoch so we can plot the evolution od the training steps"
   ]
  },
  {
   "cell_type": "code",
   "execution_count": 51,
   "metadata": {},
   "outputs": [
    {
     "data": {
      "text/html": [
       "<div>\n",
       "<style scoped>\n",
       "    .dataframe tbody tr th:only-of-type {\n",
       "        vertical-align: middle;\n",
       "    }\n",
       "\n",
       "    .dataframe tbody tr th {\n",
       "        vertical-align: top;\n",
       "    }\n",
       "\n",
       "    .dataframe thead th {\n",
       "        text-align: right;\n",
       "    }\n",
       "</style>\n",
       "<table border=\"1\" class=\"dataframe\">\n",
       "  <thead>\n",
       "    <tr style=\"text-align: right;\">\n",
       "      <th></th>\n",
       "      <th>loss</th>\n",
       "      <th>mae</th>\n",
       "      <th>mse</th>\n",
       "      <th>val_loss</th>\n",
       "      <th>val_mae</th>\n",
       "      <th>val_mse</th>\n",
       "      <th>epoch</th>\n",
       "    </tr>\n",
       "  </thead>\n",
       "  <tbody>\n",
       "    <tr>\n",
       "      <th>15</th>\n",
       "      <td>119299576.0</td>\n",
       "      <td>2942.357666</td>\n",
       "      <td>119299576.0</td>\n",
       "      <td>192266528.0</td>\n",
       "      <td>2956.038574</td>\n",
       "      <td>192266528.0</td>\n",
       "      <td>15</td>\n",
       "    </tr>\n",
       "    <tr>\n",
       "      <th>16</th>\n",
       "      <td>119197576.0</td>\n",
       "      <td>2936.468262</td>\n",
       "      <td>119197576.0</td>\n",
       "      <td>192191152.0</td>\n",
       "      <td>2960.170654</td>\n",
       "      <td>192191152.0</td>\n",
       "      <td>16</td>\n",
       "    </tr>\n",
       "    <tr>\n",
       "      <th>17</th>\n",
       "      <td>119103624.0</td>\n",
       "      <td>2933.219727</td>\n",
       "      <td>119103624.0</td>\n",
       "      <td>192140224.0</td>\n",
       "      <td>2957.003906</td>\n",
       "      <td>192140224.0</td>\n",
       "      <td>17</td>\n",
       "    </tr>\n",
       "    <tr>\n",
       "      <th>18</th>\n",
       "      <td>119124216.0</td>\n",
       "      <td>2935.062744</td>\n",
       "      <td>119124216.0</td>\n",
       "      <td>192116256.0</td>\n",
       "      <td>2946.565430</td>\n",
       "      <td>192116256.0</td>\n",
       "      <td>18</td>\n",
       "    </tr>\n",
       "    <tr>\n",
       "      <th>19</th>\n",
       "      <td>119110160.0</td>\n",
       "      <td>2931.316650</td>\n",
       "      <td>119110160.0</td>\n",
       "      <td>192077520.0</td>\n",
       "      <td>2947.022461</td>\n",
       "      <td>192077520.0</td>\n",
       "      <td>19</td>\n",
       "    </tr>\n",
       "  </tbody>\n",
       "</table>\n",
       "</div>"
      ],
      "text/plain": [
       "           loss          mae          mse     val_loss      val_mae  \\\n",
       "15  119299576.0  2942.357666  119299576.0  192266528.0  2956.038574   \n",
       "16  119197576.0  2936.468262  119197576.0  192191152.0  2960.170654   \n",
       "17  119103624.0  2933.219727  119103624.0  192140224.0  2957.003906   \n",
       "18  119124216.0  2935.062744  119124216.0  192116256.0  2946.565430   \n",
       "19  119110160.0  2931.316650  119110160.0  192077520.0  2947.022461   \n",
       "\n",
       "        val_mse  epoch  \n",
       "15  192266528.0     15  \n",
       "16  192191152.0     16  \n",
       "17  192140224.0     17  \n",
       "18  192116256.0     18  \n",
       "19  192077520.0     19  "
      ]
     },
     "execution_count": 51,
     "metadata": {},
     "output_type": "execute_result"
    }
   ],
   "source": [
    "training_hist_df = pd.DataFrame(training_hist.history)\n",
    "\n",
    "training_hist_df['epoch'] = training_hist.epoch\n",
    "\n",
    "training_hist_df.tail()"
   ]
  },
  {
   "cell_type": "markdown",
   "metadata": {},
   "source": [
    "Let's plot !!!"
   ]
  },
  {
   "cell_type": "code",
   "execution_count": 53,
   "metadata": {},
   "outputs": [
    {
     "data": {
      "image/png": "[encoded data removed]",
      "text/plain": [
       "<Figure size 576x432 with 1 Axes>"
      ]
     },
     "metadata": {
      "needs_background": "light"
     },
     "output_type": "display_data"
    }
   ],
   "source": [
    "plt.figure(figsize=(8, 6))\n",
    "\n",
    "plotter.plot({'Basic': training_hist}, metric = \"mae\")\n",
    "\n",
    "plt.ylabel('MAE')\n",
    "\n",
    "plt.show()"
   ]
  },
  {
   "cell_type": "markdown",
   "metadata": {},
   "source": [
    "We can see how MAE decreases both on validation and training as epochs increases."
   ]
  },
  {
   "cell_type": "markdown",
   "metadata": {},
   "source": [
    "Now let's plot MSE evolution:"
   ]
  },
  {
   "cell_type": "code",
   "execution_count": 54,
   "metadata": {},
   "outputs": [
    {
     "data": {
      "image/png": "[encoded data removed]",
      "text/plain": [
       "<Figure size 576x432 with 1 Axes>"
      ]
     },
     "metadata": {
      "needs_background": "light"
     },
     "output_type": "display_data"
    }
   ],
   "source": [
    "plt.figure(figsize=(8, 6))\n",
    "\n",
    "plotter.plot({'Basic': training_hist}, metric = \"mse\")\n",
    "\n",
    "plt.ylabel('MSE')\n",
    "\n",
    "plt.show()"
   ]
  },
  {
   "cell_type": "code",
   "execution_count": 56,
   "metadata": {},
   "outputs": [
    {
     "name": "stdout",
     "output_type": "stream",
     "text": [
      "376/376 [==============================] - 0s 1ms/step - loss: 795643776.0000 - mae: 3025.5229 - mse: 795643776.0000\n"
     ]
    },
    {
     "data": {
      "text/plain": [
       "[795643776.0, 3025.52294921875, 795643776.0]"
      ]
     },
     "execution_count": 56,
     "metadata": {},
     "output_type": "execute_result"
    }
   ],
   "source": [
    "model_elu_64.evaluate(X_test, y_test)"
   ]
  },
  {
   "cell_type": "markdown",
   "metadata": {},
   "source": [
    "So for NN approach we got a MAE of 3025, let's plot predicted versus actual values:"
   ]
  },
  {
   "cell_type": "code",
   "execution_count": 60,
   "metadata": {},
   "outputs": [
    {
     "data": {
      "image/png": "[encoded data removed]",
      "text/plain": [
       "<Figure size 576x432 with 1 Axes>"
      ]
     },
     "metadata": {
      "needs_background": "light"
     },
     "output_type": "display_data"
    }
   ],
   "source": [
    "y_pred = model_elu_64.predict(X_test).flatten()\n",
    "\n",
    "plt.figure(figsize=(8, 6))\n",
    "\n",
    "plt.scatter(y_test, y_pred, s=100, c='steelblue')\n",
    "\n",
    "plt.xlabel('Actual charges values')\n",
    "plt.ylabel('Predicted charges values')\n",
    "plt.show()"
   ]
  },
  {
   "cell_type": "markdown",
   "metadata": {},
   "source": [
    "We would expect to have a straight diagonal line "
   ]
  },
  {
   "cell_type": "code",
   "execution_count": 58,
   "metadata": {},
   "outputs": [
    {
     "name": "stdout",
     "output_type": "stream",
     "text": [
      "R2 for NN 0.010613390035165371\n"
     ]
    }
   ],
   "source": [
    "print(\"R2 for NN\", metrics.r2_score(y_test, y_pred))"
   ]
  },
  {
   "cell_type": "code",
   "execution_count": 59,
   "metadata": {},
   "outputs": [
    {
     "name": "stdout",
     "output_type": "stream",
     "text": [
      "MAE for NN 3025.5237918060384\n",
      "MSE for NN 795643896.0875808\n"
     ]
    }
   ],
   "source": [
    "print(\"MAE for NN\", metrics.mean_absolute_error(y_test, y_pred))\n",
    "print(\"MSE for NN\",metrics.mean_squared_error(y_test, y_pred))"
   ]
  },
  {
   "cell_type": "markdown",
   "metadata": {},
   "source": [
    "#### We reached the lowest error for MAE with neural nets, so we'll proceede with this model for NA's imputation on **monthly_income**"
   ]
  },
  {
   "cell_type": "markdown",
   "metadata": {},
   "source": [
    "Now let's use this models for predicting values on the dataframe with NA's"
   ]
  },
  {
   "cell_type": "code",
   "execution_count": 61,
   "metadata": {},
   "outputs": [
    {
     "data": {
      "text/plain": [
       "(array([2.753e+04, 5.310e+02, 5.390e+02, 3.820e+02, 4.000e+00, 2.000e+00,\n",
       "        2.000e+00, 1.000e+00, 0.000e+00, 1.000e+00]),\n",
       " array([-1561.9146,  1444.9578,  4451.83  ,  7458.702 , 10465.574 ,\n",
       "        13472.447 , 16479.32  , 19486.191 , 22493.064 , 25499.936 ,\n",
       "        28506.809 ], dtype=float32),\n",
       " <a list of 10 Patch objects>)"
      ]
     },
     "execution_count": 61,
     "metadata": {},
     "output_type": "execute_result"
    },
    {
     "data": {
      "image/png": "[encoded data removed]",
      "text/plain": [
       "<Figure size 432x288 with 1 Axes>"
      ]
     },
     "metadata": {
      "needs_background": "light"
     },
     "output_type": "display_data"
    }
   ],
   "source": [
    "y_pred = model_elu_64.predict(nn_data_na.loc[:, nn_data_na.columns != 'monthly_income']).flatten()\n",
    "plt.hist(y_pred)"
   ]
  },
  {
   "cell_type": "markdown",
   "metadata": {},
   "source": [
    "The NN estimated some negative values which makes no sense, so set those values to 0"
   ]
  },
  {
   "cell_type": "code",
   "execution_count": 63,
   "metadata": {},
   "outputs": [],
   "source": [
    "y_pred = np.where(y_pred < 0, 0, y_pred)"
   ]
  },
  {
   "cell_type": "markdown",
   "metadata": {},
   "source": [
    "Impute values to the dataframe with NA's"
   ]
  },
  {
   "cell_type": "code",
   "execution_count": 64,
   "metadata": {},
   "outputs": [],
   "source": [
    "nn_data_na['monthly_income'] = y_pred"
   ]
  },
  {
   "cell_type": "code",
   "execution_count": 149,
   "metadata": {},
   "outputs": [
    {
     "data": {
      "text/html": [
       "<div>\n",
       "<style scoped>\n",
       "    .dataframe tbody tr th:only-of-type {\n",
       "        vertical-align: middle;\n",
       "    }\n",
       "\n",
       "    .dataframe tbody tr th {\n",
       "        vertical-align: top;\n",
       "    }\n",
       "\n",
       "    .dataframe thead th {\n",
       "        text-align: right;\n",
       "    }\n",
       "</style>\n",
       "<table border=\"1\" class=\"dataframe\">\n",
       "  <thead>\n",
       "    <tr style=\"text-align: right;\">\n",
       "      <th></th>\n",
       "      <th>serious_dlqin2yrs</th>\n",
       "      <th>revolving_utilization_of_unsecured_lines</th>\n",
       "      <th>age</th>\n",
       "      <th>number_of_time30-59_days_past_due_not_worse</th>\n",
       "      <th>number_of_open_credit_lines_and_loans</th>\n",
       "      <th>number_of_times90_days_late</th>\n",
       "      <th>number_real_estate_loans_or_lines</th>\n",
       "      <th>number_of_time60-89_days_past_due_not_worse</th>\n",
       "      <th>number_of_dependents</th>\n",
       "      <th>debt_label</th>\n",
       "      <th>monthly_income</th>\n",
       "    </tr>\n",
       "  </thead>\n",
       "  <tbody>\n",
       "    <tr>\n",
       "      <th>149976</th>\n",
       "      <td>-0.26636</td>\n",
       "      <td>-0.024279</td>\n",
       "      <td>1.610402</td>\n",
       "      <td>-0.353192</td>\n",
       "      <td>-0.682631</td>\n",
       "      <td>-0.186607</td>\n",
       "      <td>-0.906683</td>\n",
       "      <td>-0.196863</td>\n",
       "      <td>-0.668863</td>\n",
       "      <td>1.484861</td>\n",
       "      <td>0.0</td>\n",
       "    </tr>\n",
       "    <tr>\n",
       "      <th>149977</th>\n",
       "      <td>-0.26636</td>\n",
       "      <td>-0.023338</td>\n",
       "      <td>-1.586076</td>\n",
       "      <td>-0.353192</td>\n",
       "      <td>-1.072664</td>\n",
       "      <td>-0.186607</td>\n",
       "      <td>-0.906683</td>\n",
       "      <td>-0.196863</td>\n",
       "      <td>-0.668863</td>\n",
       "      <td>1.484861</td>\n",
       "      <td>0.0</td>\n",
       "    </tr>\n",
       "    <tr>\n",
       "      <th>149984</th>\n",
       "      <td>-0.26636</td>\n",
       "      <td>-0.024132</td>\n",
       "      <td>2.154483</td>\n",
       "      <td>-0.353192</td>\n",
       "      <td>-0.682631</td>\n",
       "      <td>-0.186607</td>\n",
       "      <td>-0.906683</td>\n",
       "      <td>-0.196863</td>\n",
       "      <td>-0.668863</td>\n",
       "      <td>0.782596</td>\n",
       "      <td>0.0</td>\n",
       "    </tr>\n",
       "    <tr>\n",
       "      <th>149992</th>\n",
       "      <td>-0.26636</td>\n",
       "      <td>-0.020802</td>\n",
       "      <td>-0.157863</td>\n",
       "      <td>-0.353192</td>\n",
       "      <td>0.487469</td>\n",
       "      <td>-0.186607</td>\n",
       "      <td>-0.022077</td>\n",
       "      <td>-0.196863</td>\n",
       "      <td>2.036672</td>\n",
       "      <td>2.187126</td>\n",
       "      <td>0.0</td>\n",
       "    </tr>\n",
       "    <tr>\n",
       "      <th>149997</th>\n",
       "      <td>-0.26636</td>\n",
       "      <td>-0.023300</td>\n",
       "      <td>0.386219</td>\n",
       "      <td>-0.353192</td>\n",
       "      <td>1.852585</td>\n",
       "      <td>-0.186607</td>\n",
       "      <td>-0.022077</td>\n",
       "      <td>-0.196863</td>\n",
       "      <td>-0.668863</td>\n",
       "      <td>2.187126</td>\n",
       "      <td>0.0</td>\n",
       "    </tr>\n",
       "  </tbody>\n",
       "</table>\n",
       "</div>"
      ],
      "text/plain": [
       "        serious_dlqin2yrs  revolving_utilization_of_unsecured_lines       age  \\\n",
       "149976           -0.26636                                 -0.024279  1.610402   \n",
       "149977           -0.26636                                 -0.023338 -1.586076   \n",
       "149984           -0.26636                                 -0.024132  2.154483   \n",
       "149992           -0.26636                                 -0.020802 -0.157863   \n",
       "149997           -0.26636                                 -0.023300  0.386219   \n",
       "\n",
       "        number_of_time30-59_days_past_due_not_worse  \\\n",
       "149976                                    -0.353192   \n",
       "149977                                    -0.353192   \n",
       "149984                                    -0.353192   \n",
       "149992                                    -0.353192   \n",
       "149997                                    -0.353192   \n",
       "\n",
       "        number_of_open_credit_lines_and_loans  number_of_times90_days_late  \\\n",
       "149976                              -0.682631                    -0.186607   \n",
       "149977                              -1.072664                    -0.186607   \n",
       "149984                              -0.682631                    -0.186607   \n",
       "149992                               0.487469                    -0.186607   \n",
       "149997                               1.852585                    -0.186607   \n",
       "\n",
       "        number_real_estate_loans_or_lines  \\\n",
       "149976                          -0.906683   \n",
       "149977                          -0.906683   \n",
       "149984                          -0.906683   \n",
       "149992                          -0.022077   \n",
       "149997                          -0.022077   \n",
       "\n",
       "        number_of_time60-89_days_past_due_not_worse  number_of_dependents  \\\n",
       "149976                                    -0.196863             -0.668863   \n",
       "149977                                    -0.196863             -0.668863   \n",
       "149984                                    -0.196863             -0.668863   \n",
       "149992                                    -0.196863              2.036672   \n",
       "149997                                    -0.196863             -0.668863   \n",
       "\n",
       "        debt_label  monthly_income  \n",
       "149976    1.484861             0.0  \n",
       "149977    1.484861             0.0  \n",
       "149984    0.782596             0.0  \n",
       "149992    2.187126             0.0  \n",
       "149997    2.187126             0.0  "
      ]
     },
     "execution_count": 149,
     "metadata": {},
     "output_type": "execute_result"
    }
   ],
   "source": [
    "nn_data_na.tail(n=5)"
   ]
  },
  {
   "cell_type": "markdown",
   "metadata": {},
   "source": [
    "Let's reconstruct the dataframe with imputed values concatenating the predicted dataframe"
   ]
  },
  {
   "cell_type": "code",
   "execution_count": 66,
   "metadata": {},
   "outputs": [],
   "source": [
    "df_scaled = pd.concat([nn_data_no_na, nn_data_na], axis=0)\n",
    "\n",
    "df_scaled.reset_index(inplace=True, drop=True)"
   ]
  },
  {
   "cell_type": "markdown",
   "metadata": {},
   "source": [
    "We'll inverse transform to get the original values"
   ]
  },
  {
   "cell_type": "code",
   "execution_count": 167,
   "metadata": {},
   "outputs": [],
   "source": [
    "unscaled = standardScaler.inverse_transform(df_scaled.drop('monthly_income', axis = 1))\n",
    "\n",
    "df_unscaled = pd.DataFrame(unscaled, columns = df_scaled.columns[:10])\n",
    "\n",
    "df_final =  pd.concat([df_unscaled, df_scaled[['monthly_income']]], axis=1)"
   ]
  },
  {
   "cell_type": "code",
   "execution_count": 168,
   "metadata": {},
   "outputs": [
    {
     "data": {
      "text/html": [
       "<div>\n",
       "<style scoped>\n",
       "    .dataframe tbody tr th:only-of-type {\n",
       "        vertical-align: middle;\n",
       "    }\n",
       "\n",
       "    .dataframe tbody tr th {\n",
       "        vertical-align: top;\n",
       "    }\n",
       "\n",
       "    .dataframe thead th {\n",
       "        text-align: right;\n",
       "    }\n",
       "</style>\n",
       "<table border=\"1\" class=\"dataframe\">\n",
       "  <thead>\n",
       "    <tr style=\"text-align: right;\">\n",
       "      <th></th>\n",
       "      <th>serious_dlqin2yrs</th>\n",
       "      <th>revolving_utilization_of_unsecured_lines</th>\n",
       "      <th>age</th>\n",
       "      <th>number_of_time30-59_days_past_due_not_worse</th>\n",
       "      <th>number_of_open_credit_lines_and_loans</th>\n",
       "      <th>number_of_times90_days_late</th>\n",
       "      <th>number_real_estate_loans_or_lines</th>\n",
       "      <th>number_of_time60-89_days_past_due_not_worse</th>\n",
       "      <th>number_of_dependents</th>\n",
       "      <th>debt_label</th>\n",
       "      <th>monthly_income</th>\n",
       "    </tr>\n",
       "  </thead>\n",
       "  <tbody>\n",
       "    <tr>\n",
       "      <th>0</th>\n",
       "      <td>1.0</td>\n",
       "      <td>0.766127</td>\n",
       "      <td>45.0</td>\n",
       "      <td>2.000000e+00</td>\n",
       "      <td>13.0</td>\n",
       "      <td>0.0</td>\n",
       "      <td>6.0</td>\n",
       "      <td>0.0</td>\n",
       "      <td>2.0</td>\n",
       "      <td>3.0</td>\n",
       "      <td>9120.0</td>\n",
       "    </tr>\n",
       "    <tr>\n",
       "      <th>1</th>\n",
       "      <td>0.0</td>\n",
       "      <td>0.957151</td>\n",
       "      <td>40.0</td>\n",
       "      <td>-2.775558e-17</td>\n",
       "      <td>4.0</td>\n",
       "      <td>0.0</td>\n",
       "      <td>0.0</td>\n",
       "      <td>0.0</td>\n",
       "      <td>1.0</td>\n",
       "      <td>2.0</td>\n",
       "      <td>2600.0</td>\n",
       "    </tr>\n",
       "    <tr>\n",
       "      <th>2</th>\n",
       "      <td>0.0</td>\n",
       "      <td>0.658180</td>\n",
       "      <td>38.0</td>\n",
       "      <td>1.000000e+00</td>\n",
       "      <td>2.0</td>\n",
       "      <td>1.0</td>\n",
       "      <td>0.0</td>\n",
       "      <td>0.0</td>\n",
       "      <td>0.0</td>\n",
       "      <td>2.0</td>\n",
       "      <td>3042.0</td>\n",
       "    </tr>\n",
       "    <tr>\n",
       "      <th>3</th>\n",
       "      <td>0.0</td>\n",
       "      <td>0.233810</td>\n",
       "      <td>30.0</td>\n",
       "      <td>-2.775558e-17</td>\n",
       "      <td>5.0</td>\n",
       "      <td>0.0</td>\n",
       "      <td>0.0</td>\n",
       "      <td>0.0</td>\n",
       "      <td>0.0</td>\n",
       "      <td>2.0</td>\n",
       "      <td>3300.0</td>\n",
       "    </tr>\n",
       "    <tr>\n",
       "      <th>4</th>\n",
       "      <td>0.0</td>\n",
       "      <td>0.907239</td>\n",
       "      <td>49.0</td>\n",
       "      <td>1.000000e+00</td>\n",
       "      <td>7.0</td>\n",
       "      <td>0.0</td>\n",
       "      <td>1.0</td>\n",
       "      <td>0.0</td>\n",
       "      <td>0.0</td>\n",
       "      <td>2.0</td>\n",
       "      <td>63588.0</td>\n",
       "    </tr>\n",
       "  </tbody>\n",
       "</table>\n",
       "</div>"
      ],
      "text/plain": [
       "   serious_dlqin2yrs  revolving_utilization_of_unsecured_lines   age  \\\n",
       "0                1.0                                  0.766127  45.0   \n",
       "1                0.0                                  0.957151  40.0   \n",
       "2                0.0                                  0.658180  38.0   \n",
       "3                0.0                                  0.233810  30.0   \n",
       "4                0.0                                  0.907239  49.0   \n",
       "\n",
       "   number_of_time30-59_days_past_due_not_worse  \\\n",
       "0                                 2.000000e+00   \n",
       "1                                -2.775558e-17   \n",
       "2                                 1.000000e+00   \n",
       "3                                -2.775558e-17   \n",
       "4                                 1.000000e+00   \n",
       "\n",
       "   number_of_open_credit_lines_and_loans  number_of_times90_days_late  \\\n",
       "0                                   13.0                          0.0   \n",
       "1                                    4.0                          0.0   \n",
       "2                                    2.0                          1.0   \n",
       "3                                    5.0                          0.0   \n",
       "4                                    7.0                          0.0   \n",
       "\n",
       "   number_real_estate_loans_or_lines  \\\n",
       "0                                6.0   \n",
       "1                                0.0   \n",
       "2                                0.0   \n",
       "3                                0.0   \n",
       "4                                1.0   \n",
       "\n",
       "   number_of_time60-89_days_past_due_not_worse  number_of_dependents  \\\n",
       "0                                          0.0                   2.0   \n",
       "1                                          0.0                   1.0   \n",
       "2                                          0.0                   0.0   \n",
       "3                                          0.0                   0.0   \n",
       "4                                          0.0                   0.0   \n",
       "\n",
       "   debt_label  monthly_income  \n",
       "0         3.0          9120.0  \n",
       "1         2.0          2600.0  \n",
       "2         2.0          3042.0  \n",
       "3         2.0          3300.0  \n",
       "4         2.0         63588.0  "
      ]
     },
     "execution_count": 168,
     "metadata": {},
     "output_type": "execute_result"
    }
   ],
   "source": [
    "df_final.head()"
   ]
  },
  {
   "cell_type": "markdown",
   "metadata": {},
   "source": [
    "Let's convert **number_of_time30-59_days_past_due_not_worse** to integer since there's a precision issue when converting  the values back..."
   ]
  },
  {
   "cell_type": "code",
   "execution_count": 170,
   "metadata": {},
   "outputs": [],
   "source": [
    "df_final['number_of_time30-59_days_past_due_not_worse'] = df_final['number_of_time30-59_days_past_due_not_worse'].astype('int')"
   ]
  },
  {
   "cell_type": "code",
   "execution_count": 172,
   "metadata": {},
   "outputs": [
    {
     "data": {
      "text/html": [
       "<div>\n",
       "<style scoped>\n",
       "    .dataframe tbody tr th:only-of-type {\n",
       "        vertical-align: middle;\n",
       "    }\n",
       "\n",
       "    .dataframe tbody tr th {\n",
       "        vertical-align: top;\n",
       "    }\n",
       "\n",
       "    .dataframe thead th {\n",
       "        text-align: right;\n",
       "    }\n",
       "</style>\n",
       "<table border=\"1\" class=\"dataframe\">\n",
       "  <thead>\n",
       "    <tr style=\"text-align: right;\">\n",
       "      <th></th>\n",
       "      <th>serious_dlqin2yrs</th>\n",
       "      <th>revolving_utilization_of_unsecured_lines</th>\n",
       "      <th>age</th>\n",
       "      <th>number_of_time30-59_days_past_due_not_worse</th>\n",
       "      <th>number_of_open_credit_lines_and_loans</th>\n",
       "      <th>number_of_times90_days_late</th>\n",
       "      <th>number_real_estate_loans_or_lines</th>\n",
       "      <th>number_of_time60-89_days_past_due_not_worse</th>\n",
       "      <th>number_of_dependents</th>\n",
       "      <th>debt_label</th>\n",
       "      <th>monthly_income</th>\n",
       "    </tr>\n",
       "  </thead>\n",
       "  <tbody>\n",
       "    <tr>\n",
       "      <th>0</th>\n",
       "      <td>1.0</td>\n",
       "      <td>0.766127</td>\n",
       "      <td>45.0</td>\n",
       "      <td>2</td>\n",
       "      <td>13.0</td>\n",
       "      <td>0.0</td>\n",
       "      <td>6.0</td>\n",
       "      <td>0.0</td>\n",
       "      <td>2.0</td>\n",
       "      <td>3.0</td>\n",
       "      <td>9120.0</td>\n",
       "    </tr>\n",
       "    <tr>\n",
       "      <th>1</th>\n",
       "      <td>0.0</td>\n",
       "      <td>0.957151</td>\n",
       "      <td>40.0</td>\n",
       "      <td>0</td>\n",
       "      <td>4.0</td>\n",
       "      <td>0.0</td>\n",
       "      <td>0.0</td>\n",
       "      <td>0.0</td>\n",
       "      <td>1.0</td>\n",
       "      <td>2.0</td>\n",
       "      <td>2600.0</td>\n",
       "    </tr>\n",
       "    <tr>\n",
       "      <th>2</th>\n",
       "      <td>0.0</td>\n",
       "      <td>0.658180</td>\n",
       "      <td>38.0</td>\n",
       "      <td>1</td>\n",
       "      <td>2.0</td>\n",
       "      <td>1.0</td>\n",
       "      <td>0.0</td>\n",
       "      <td>0.0</td>\n",
       "      <td>0.0</td>\n",
       "      <td>2.0</td>\n",
       "      <td>3042.0</td>\n",
       "    </tr>\n",
       "    <tr>\n",
       "      <th>3</th>\n",
       "      <td>0.0</td>\n",
       "      <td>0.233810</td>\n",
       "      <td>30.0</td>\n",
       "      <td>0</td>\n",
       "      <td>5.0</td>\n",
       "      <td>0.0</td>\n",
       "      <td>0.0</td>\n",
       "      <td>0.0</td>\n",
       "      <td>0.0</td>\n",
       "      <td>2.0</td>\n",
       "      <td>3300.0</td>\n",
       "    </tr>\n",
       "    <tr>\n",
       "      <th>4</th>\n",
       "      <td>0.0</td>\n",
       "      <td>0.907239</td>\n",
       "      <td>49.0</td>\n",
       "      <td>1</td>\n",
       "      <td>7.0</td>\n",
       "      <td>0.0</td>\n",
       "      <td>1.0</td>\n",
       "      <td>0.0</td>\n",
       "      <td>0.0</td>\n",
       "      <td>2.0</td>\n",
       "      <td>63588.0</td>\n",
       "    </tr>\n",
       "  </tbody>\n",
       "</table>\n",
       "</div>"
      ],
      "text/plain": [
       "   serious_dlqin2yrs  revolving_utilization_of_unsecured_lines   age  \\\n",
       "0                1.0                                  0.766127  45.0   \n",
       "1                0.0                                  0.957151  40.0   \n",
       "2                0.0                                  0.658180  38.0   \n",
       "3                0.0                                  0.233810  30.0   \n",
       "4                0.0                                  0.907239  49.0   \n",
       "\n",
       "   number_of_time30-59_days_past_due_not_worse  \\\n",
       "0                                            2   \n",
       "1                                            0   \n",
       "2                                            1   \n",
       "3                                            0   \n",
       "4                                            1   \n",
       "\n",
       "   number_of_open_credit_lines_and_loans  number_of_times90_days_late  \\\n",
       "0                                   13.0                          0.0   \n",
       "1                                    4.0                          0.0   \n",
       "2                                    2.0                          1.0   \n",
       "3                                    5.0                          0.0   \n",
       "4                                    7.0                          0.0   \n",
       "\n",
       "   number_real_estate_loans_or_lines  \\\n",
       "0                                6.0   \n",
       "1                                0.0   \n",
       "2                                0.0   \n",
       "3                                0.0   \n",
       "4                                1.0   \n",
       "\n",
       "   number_of_time60-89_days_past_due_not_worse  number_of_dependents  \\\n",
       "0                                          0.0                   2.0   \n",
       "1                                          0.0                   1.0   \n",
       "2                                          0.0                   0.0   \n",
       "3                                          0.0                   0.0   \n",
       "4                                          0.0                   0.0   \n",
       "\n",
       "   debt_label  monthly_income  \n",
       "0         3.0          9120.0  \n",
       "1         2.0          2600.0  \n",
       "2         2.0          3042.0  \n",
       "3         2.0          3300.0  \n",
       "4         2.0         63588.0  "
      ]
     },
     "execution_count": 172,
     "metadata": {},
     "output_type": "execute_result"
    }
   ],
   "source": [
    "df_final.head()"
   ]
  },
  {
   "cell_type": "markdown",
   "metadata": {},
   "source": [
    "# Final considerations and beyond\n",
    "\n",
    "## Suggestions for Improving Data Quality and Models Accuracy\n",
    "* Hyperparameters optimization\n",
    "* Grid search more exhaustive\n",
    "* One hot encoding for **debt_label** variable\n",
    "* Create new features based on highly correlated variables **number_of_times_***\n",
    "* Neural nets with more layers\n",
    "* Assess unsupervised algorithms for missing values imputation\n",
    "\n",
    "## Use Cases on Finance Domain\n",
    "\n",
    "* Applying unsupervised algorithms such as K-means or DBSCAN can help to **detect similar groups** in the features space, after which you can give them differentiated treatment. This is very useful for risk analysis, marketing campaigns , customer personalization, etc\n",
    "* Anomaly detection can help **detect rare or unexpected events** based on different approaches (univariate, multivariate, etc) such as fraud detection\n",
    "* Predicting **expected debt_ratio** based on customers with similar behaviour can help anticipate borrowers debt to increase dramatically\n"
   ]
  },
  {
   "cell_type": "markdown",
   "metadata": {},
   "source": []
  }
 ],
 "metadata": {
  "@webio": {
   "lastCommId": "814db409262d41e59a8f535448fcae85",
   "lastKernelId": "3183b2f9-976f-49e9-9ea7-931bafbad9e4"
  },
  "kernelspec": {
   "display_name": "Python 3",
   "language": "python",
   "name": "python3"
  },
  "language_info": {
   "codemirror_mode": {
    "name": "ipython",
    "version": 3
   },
   "file_extension": ".py",
   "mimetype": "text/x-python",
   "name": "python",
   "nbconvert_exporter": "python",
   "pygments_lexer": "ipython3",
   "version": "3.7.10"
  }
 },
 "nbformat": 4,
 "nbformat_minor": 4
}
